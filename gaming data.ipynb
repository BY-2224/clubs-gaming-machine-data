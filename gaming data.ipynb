{
 "cells": [
  {
   "cell_type": "markdown",
   "metadata": {},
   "source": [
    "Panda gaming data"
   ]
  },
  {
   "cell_type": "code",
   "execution_count": 1,
   "metadata": {},
   "outputs": [],
   "source": [
    "import matplotlib\n",
    "import matplotlib.pyplot as plt\n",
    "import numpy as np\n",
    "import pandas as pd\n",
    "import os\n",
    "from datetime import datetime"
   ]
  },
  {
   "cell_type": "markdown",
   "metadata": {},
   "source": [
    "data setup:"
   ]
  },
  {
   "cell_type": "code",
   "execution_count": 2,
   "metadata": {},
   "outputs": [],
   "source": [
    "%matplotlib inline"
   ]
  },
  {
   "cell_type": "code",
   "execution_count": 3,
   "metadata": {},
   "outputs": [],
   "source": [
    "saved_style_state = matplotlib.rcParams.copy() #give us a style state to go back to"
   ]
  },
  {
   "cell_type": "markdown",
   "metadata": {},
   "source": [
    "CSV file of the gaming data"
   ]
  },
  {
   "cell_type": "code",
   "execution_count": 4,
   "metadata": {},
   "outputs": [
    {
     "name": "stdout",
     "output_type": "stream",
     "text": [
      "done\n"
     ]
    }
   ],
   "source": [
    "gaming_data = pd.read_csv(\"clubs-gaming-machine-report-by-lga.csv\")\n",
    "print(\"done\")"
   ]
  },
  {
   "cell_type": "code",
   "execution_count": 5,
   "metadata": {},
   "outputs": [
    {
     "data": {
      "text/html": [
       "<div>\n",
       "<style scoped>\n",
       "    .dataframe tbody tr th:only-of-type {\n",
       "        vertical-align: middle;\n",
       "    }\n",
       "\n",
       "    .dataframe tbody tr th {\n",
       "        vertical-align: top;\n",
       "    }\n",
       "\n",
       "    .dataframe thead th {\n",
       "        text-align: right;\n",
       "    }\n",
       "</style>\n",
       "<table border=\"1\" class=\"dataframe\">\n",
       "  <thead>\n",
       "    <tr style=\"text-align: right;\">\n",
       "      <th></th>\n",
       "      <th>LGA</th>\n",
       "      <th>Profit</th>\n",
       "      <th>Tax</th>\n",
       "      <th>Machines</th>\n",
       "      <th>Premises Count</th>\n",
       "    </tr>\n",
       "  </thead>\n",
       "  <tbody>\n",
       "    <tr>\n",
       "      <th>0</th>\n",
       "      <td>Albury\\nGreater Hume</td>\n",
       "      <td>24,405,524</td>\n",
       "      <td>5,266,934</td>\n",
       "      <td>850</td>\n",
       "      <td>8.0</td>\n",
       "    </tr>\n",
       "    <tr>\n",
       "      <th>1</th>\n",
       "      <td>Armidale\\nGlen Innes Severn</td>\n",
       "      <td>5,778,231</td>\n",
       "      <td>788,695</td>\n",
       "      <td>267</td>\n",
       "      <td>7.0</td>\n",
       "    </tr>\n",
       "    <tr>\n",
       "      <th>2</th>\n",
       "      <td>Ballina</td>\n",
       "      <td>8,496,734</td>\n",
       "      <td>1,451,539</td>\n",
       "      <td>383</td>\n",
       "      <td>7.0</td>\n",
       "    </tr>\n",
       "    <tr>\n",
       "      <th>3</th>\n",
       "      <td>Balranald\\nCarrathool\\nCentral Darling</td>\n",
       "      <td>4,840,075</td>\n",
       "      <td>744,971</td>\n",
       "      <td>202</td>\n",
       "      <td>6.0</td>\n",
       "    </tr>\n",
       "    <tr>\n",
       "      <th>4</th>\n",
       "      <td>Bathurst\\r\\nBlayney</td>\n",
       "      <td>5,356,026</td>\n",
       "      <td>894,190</td>\n",
       "      <td>275</td>\n",
       "      <td>7.0</td>\n",
       "    </tr>\n",
       "  </tbody>\n",
       "</table>\n",
       "</div>"
      ],
      "text/plain": [
       "                                      LGA     Profit        Tax   Machines  \\\n",
       "0                    Albury\\nGreater Hume  24,405,524  5,266,934       850   \n",
       "1             Armidale\\nGlen Innes Severn   5,778,231    788,695       267   \n",
       "2                                 Ballina   8,496,734  1,451,539       383   \n",
       "3  Balranald\\nCarrathool\\nCentral Darling   4,840,075    744,971       202   \n",
       "4                     Bathurst\\r\\nBlayney   5,356,026    894,190       275   \n",
       "\n",
       "    Premises Count   \n",
       "0               8.0  \n",
       "1               7.0  \n",
       "2               7.0  \n",
       "3               6.0  \n",
       "4               7.0  "
      ]
     },
     "execution_count": 5,
     "metadata": {},
     "output_type": "execute_result"
    }
   ],
   "source": [
    "gaming_data.head()"
   ]
  },
  {
   "cell_type": "markdown",
   "metadata": {},
   "source": [
    "Columns of the gaming data"
   ]
  },
  {
   "cell_type": "code",
   "execution_count": 6,
   "metadata": {},
   "outputs": [
    {
     "data": {
      "text/plain": [
       "Index(['LGA', ' Profit ', ' Tax ', ' Machines', ' Premises Count '], dtype='object')"
      ]
     },
     "execution_count": 6,
     "metadata": {},
     "output_type": "execute_result"
    }
   ],
   "source": [
    "gaming_data.columns"
   ]
  },
  {
   "cell_type": "markdown",
   "metadata": {},
   "source": [
    "row of the gaming data"
   ]
  },
  {
   "cell_type": "code",
   "execution_count": 7,
   "metadata": {},
   "outputs": [
    {
     "data": {
      "text/plain": [
       "LGA                 Armidale\\nGlen Innes Severn\n",
       " Profit                               5,778,231\n",
       " Tax                                    788,695\n",
       " Machines                                   267\n",
       " Premises Count                             7.0\n",
       "Name: 1, dtype: object"
      ]
     },
     "execution_count": 7,
     "metadata": {},
     "output_type": "execute_result"
    }
   ],
   "source": [
    "row_one = gaming_data.iloc[1]\n",
    "row_one"
   ]
  },
  {
   "cell_type": "code",
   "execution_count": 8,
   "metadata": {},
   "outputs": [
    {
     "data": {
      "text/plain": [
       "'788,695'"
      ]
     },
     "execution_count": 8,
     "metadata": {},
     "output_type": "execute_result"
    }
   ],
   "source": [
    "row_one[\" Tax \"]\n"
   ]
  },
  {
   "cell_type": "code",
   "execution_count": 9,
   "metadata": {},
   "outputs": [
    {
     "data": {
      "text/plain": [
       "LGA                  Blacktown\n",
       " Profit             37,381,922\n",
       " Tax                 7,812,098\n",
       " Machines                2,079\n",
       " Premises Count           11.0\n",
       "Name: 9, dtype: object"
      ]
     },
     "execution_count": 9,
     "metadata": {},
     "output_type": "execute_result"
    }
   ],
   "source": [
    "row_two = gaming_data.iloc[9]\n",
    "row_two"
   ]
  },
  {
   "cell_type": "code",
   "execution_count": 10,
   "metadata": {},
   "outputs": [
    {
     "data": {
      "text/plain": [
       "'7,812,098'"
      ]
     },
     "execution_count": 10,
     "metadata": {},
     "output_type": "execute_result"
    }
   ],
   "source": [
    "row_two[\" Tax \"]"
   ]
  },
  {
   "cell_type": "code",
   "execution_count": 11,
   "metadata": {},
   "outputs": [
    {
     "data": {
      "text/html": [
       "<div>\n",
       "<style scoped>\n",
       "    .dataframe tbody tr th:only-of-type {\n",
       "        vertical-align: middle;\n",
       "    }\n",
       "\n",
       "    .dataframe tbody tr th {\n",
       "        vertical-align: top;\n",
       "    }\n",
       "\n",
       "    .dataframe thead th {\n",
       "        text-align: right;\n",
       "    }\n",
       "</style>\n",
       "<table border=\"1\" class=\"dataframe\">\n",
       "  <thead>\n",
       "    <tr style=\"text-align: right;\">\n",
       "      <th></th>\n",
       "      <th>LGA</th>\n",
       "      <th>Profit</th>\n",
       "      <th>Tax</th>\n",
       "      <th>Machines</th>\n",
       "      <th>Premises Count</th>\n",
       "    </tr>\n",
       "  </thead>\n",
       "  <tbody>\n",
       "    <tr>\n",
       "      <th>0</th>\n",
       "      <td>Albury\\nGreater Hume</td>\n",
       "      <td>24,405,524</td>\n",
       "      <td>5,266,934</td>\n",
       "      <td>850</td>\n",
       "      <td>8.0</td>\n",
       "    </tr>\n",
       "    <tr>\n",
       "      <th>1</th>\n",
       "      <td>Armidale\\nGlen Innes Severn</td>\n",
       "      <td>5,778,231</td>\n",
       "      <td>788,695</td>\n",
       "      <td>267</td>\n",
       "      <td>7.0</td>\n",
       "    </tr>\n",
       "    <tr>\n",
       "      <th>2</th>\n",
       "      <td>Ballina</td>\n",
       "      <td>8,496,734</td>\n",
       "      <td>1,451,539</td>\n",
       "      <td>383</td>\n",
       "      <td>7.0</td>\n",
       "    </tr>\n",
       "  </tbody>\n",
       "</table>\n",
       "</div>"
      ],
      "text/plain": [
       "                           LGA     Profit        Tax   Machines  \\\n",
       "0         Albury\\nGreater Hume  24,405,524  5,266,934       850   \n",
       "1  Armidale\\nGlen Innes Severn   5,778,231    788,695       267   \n",
       "2                      Ballina   8,496,734  1,451,539       383   \n",
       "\n",
       "    Premises Count   \n",
       "0               8.0  \n",
       "1               7.0  \n",
       "2               7.0  "
      ]
     },
     "execution_count": 11,
     "metadata": {},
     "output_type": "execute_result"
    }
   ],
   "source": [
    "gaming_data.head(3)"
   ]
  },
  {
   "cell_type": "code",
   "execution_count": 12,
   "metadata": {},
   "outputs": [
    {
     "data": {
      "text/html": [
       "<div>\n",
       "<style scoped>\n",
       "    .dataframe tbody tr th:only-of-type {\n",
       "        vertical-align: middle;\n",
       "    }\n",
       "\n",
       "    .dataframe tbody tr th {\n",
       "        vertical-align: top;\n",
       "    }\n",
       "\n",
       "    .dataframe thead th {\n",
       "        text-align: right;\n",
       "    }\n",
       "</style>\n",
       "<table border=\"1\" class=\"dataframe\">\n",
       "  <thead>\n",
       "    <tr style=\"text-align: right;\">\n",
       "      <th></th>\n",
       "      <th>Premises Count</th>\n",
       "    </tr>\n",
       "  </thead>\n",
       "  <tbody>\n",
       "    <tr>\n",
       "      <th>count</th>\n",
       "      <td>95.000000</td>\n",
       "    </tr>\n",
       "    <tr>\n",
       "      <th>mean</th>\n",
       "      <td>10.863158</td>\n",
       "    </tr>\n",
       "    <tr>\n",
       "      <th>std</th>\n",
       "      <td>6.967417</td>\n",
       "    </tr>\n",
       "    <tr>\n",
       "      <th>min</th>\n",
       "      <td>5.000000</td>\n",
       "    </tr>\n",
       "    <tr>\n",
       "      <th>25%</th>\n",
       "      <td>7.000000</td>\n",
       "    </tr>\n",
       "    <tr>\n",
       "      <th>50%</th>\n",
       "      <td>9.000000</td>\n",
       "    </tr>\n",
       "    <tr>\n",
       "      <th>75%</th>\n",
       "      <td>12.000000</td>\n",
       "    </tr>\n",
       "    <tr>\n",
       "      <th>max</th>\n",
       "      <td>36.000000</td>\n",
       "    </tr>\n",
       "  </tbody>\n",
       "</table>\n",
       "</div>"
      ],
      "text/plain": [
       "        Premises Count \n",
       "count         95.000000\n",
       "mean          10.863158\n",
       "std            6.967417\n",
       "min            5.000000\n",
       "25%            7.000000\n",
       "50%            9.000000\n",
       "75%           12.000000\n",
       "max           36.000000"
      ]
     },
     "execution_count": 12,
     "metadata": {},
     "output_type": "execute_result"
    }
   ],
   "source": [
    "gaming_data.describe()"
   ]
  },
  {
   "cell_type": "code",
   "execution_count": 13,
   "metadata": {},
   "outputs": [
    {
     "name": "stdout",
     "output_type": "stream",
     "text": [
      "0                       Albury\\nGreater Hume\n",
      "1                Armidale\\nGlen Innes Severn\n",
      "2                                    Ballina\n",
      "3     Balranald\\nCarrathool\\nCentral Darling\n",
      "4                        Bathurst\\r\\nBlayney\n",
      "                       ...                  \n",
      "91                                  Waverley\n",
      "92                             Wingecarribee\n",
      "93                               Wollondilly\n",
      "94                                Wollongong\n",
      "95                                       NaN\n",
      "Name: LGA, Length: 96, dtype: object\n"
     ]
    }
   ],
   "source": [
    "print(gaming_data.LGA)"
   ]
  },
  {
   "cell_type": "code",
   "execution_count": 14,
   "metadata": {},
   "outputs": [
    {
     "data": {
      "text/plain": [
       "<AxesSubplot:>"
      ]
     },
     "execution_count": 14,
     "metadata": {},
     "output_type": "execute_result"
    },
    {
     "data": {
      "image/png": "[encoded data removed]",
      "text/plain": [
       "<Figure size 432x288 with 1 Axes>"
      ]
     },
     "metadata": {
      "needs_background": "light"
     },
     "output_type": "display_data"
    }
   ],
   "source": [
    "gaming_data[\" Premises Count \"].hist()"
   ]
  },
  {
   "cell_type": "code",
   "execution_count": 15,
   "metadata": {},
   "outputs": [
    {
     "data": {
      "text/plain": [
       "0       850\n",
       "1       267\n",
       "2       383\n",
       "3       202\n",
       "4       275\n",
       "      ...  \n",
       "91      369\n",
       "92      313\n",
       "93      167\n",
       "94    2,156\n",
       "95      NaN\n",
       "Name:  Machines, Length: 96, dtype: object"
      ]
     },
     "execution_count": 15,
     "metadata": {},
     "output_type": "execute_result"
    }
   ],
   "source": [
    "gaming_data[' Machines']"
   ]
  },
  {
   "cell_type": "code",
   "execution_count": 16,
   "metadata": {},
   "outputs": [
    {
     "data": {
      "text/plain": [
       "279      2\n",
       "237      2\n",
       "850      1\n",
       "1,224    1\n",
       "300      1\n",
       "        ..\n",
       "139      1\n",
       "177      1\n",
       "93       1\n",
       "80       1\n",
       "2,156    1\n",
       "Name:  Machines, Length: 93, dtype: int64"
      ]
     },
     "execution_count": 16,
     "metadata": {},
     "output_type": "execute_result"
    }
   ],
   "source": [
    "gaming_data[' Machines'].value_counts()"
   ]
  },
  {
   "cell_type": "code",
   "execution_count": 17,
   "metadata": {},
   "outputs": [
    {
     "data": {
      "text/plain": [
       "0      8.0\n",
       "1      7.0\n",
       "2      7.0\n",
       "3      6.0\n",
       "4      7.0\n",
       "      ... \n",
       "91     6.0\n",
       "92     7.0\n",
       "93     5.0\n",
       "94    35.0\n",
       "95     NaN\n",
       "Name:  Premises Count , Length: 96, dtype: float64"
      ]
     },
     "execution_count": 17,
     "metadata": {},
     "output_type": "execute_result"
    }
   ],
   "source": [
    "gaming_data[\" Premises Count \"]"
   ]
  },
  {
   "cell_type": "code",
   "execution_count": 21,
   "metadata": {},
   "outputs": [
    {
     "data": {
      "text/html": [
       "<div>\n",
       "<style scoped>\n",
       "    .dataframe tbody tr th:only-of-type {\n",
       "        vertical-align: middle;\n",
       "    }\n",
       "\n",
       "    .dataframe tbody tr th {\n",
       "        vertical-align: top;\n",
       "    }\n",
       "\n",
       "    .dataframe thead th {\n",
       "        text-align: right;\n",
       "    }\n",
       "</style>\n",
       "<table border=\"1\" class=\"dataframe\">\n",
       "  <thead>\n",
       "    <tr style=\"text-align: right;\">\n",
       "      <th></th>\n",
       "      <th>LGA</th>\n",
       "      <th>Profit</th>\n",
       "      <th>Tax</th>\n",
       "      <th>Machines</th>\n",
       "      <th>Premises Count</th>\n",
       "    </tr>\n",
       "  </thead>\n",
       "  <tbody>\n",
       "    <tr>\n",
       "      <th>51</th>\n",
       "      <td>Kyogle</td>\n",
       "      <td>114,952</td>\n",
       "      <td>-</td>\n",
       "      <td>42</td>\n",
       "      <td>5.0</td>\n",
       "    </tr>\n",
       "    <tr>\n",
       "      <th>90</th>\n",
       "      <td>Warrumbungle</td>\n",
       "      <td>664,337</td>\n",
       "      <td>-</td>\n",
       "      <td>96</td>\n",
       "      <td>10.0</td>\n",
       "    </tr>\n",
       "    <tr>\n",
       "      <th>42</th>\n",
       "      <td>Gwydir\\r\\nUralla\\r\\nWalcha</td>\n",
       "      <td>952,863</td>\n",
       "      <td>-</td>\n",
       "      <td>95</td>\n",
       "      <td>10.0</td>\n",
       "    </tr>\n",
       "    <tr>\n",
       "      <th>16</th>\n",
       "      <td>Cabonne</td>\n",
       "      <td>871,085</td>\n",
       "      <td>-</td>\n",
       "      <td>92</td>\n",
       "      <td>11.0</td>\n",
       "    </tr>\n",
       "    <tr>\n",
       "      <th>39</th>\n",
       "      <td>Goulburn Mulwaree\\r\\nUpper Lachlan</td>\n",
       "      <td>6,884,021</td>\n",
       "      <td>1,058,053</td>\n",
       "      <td>385</td>\n",
       "      <td>7.0</td>\n",
       "    </tr>\n",
       "    <tr>\n",
       "      <th>...</th>\n",
       "      <td>...</td>\n",
       "      <td>...</td>\n",
       "      <td>...</td>\n",
       "      <td>...</td>\n",
       "      <td>...</td>\n",
       "    </tr>\n",
       "    <tr>\n",
       "      <th>91</th>\n",
       "      <td>Waverley</td>\n",
       "      <td>4,885,521</td>\n",
       "      <td>912,744</td>\n",
       "      <td>369</td>\n",
       "      <td>6.0</td>\n",
       "    </tr>\n",
       "    <tr>\n",
       "      <th>22</th>\n",
       "      <td>Cessnock</td>\n",
       "      <td>7,508,814</td>\n",
       "      <td>916,725</td>\n",
       "      <td>533</td>\n",
       "      <td>12.0</td>\n",
       "    </tr>\n",
       "    <tr>\n",
       "      <th>6</th>\n",
       "      <td>Bega Valley</td>\n",
       "      <td>7,721,981</td>\n",
       "      <td>920,028</td>\n",
       "      <td>488</td>\n",
       "      <td>11.0</td>\n",
       "    </tr>\n",
       "    <tr>\n",
       "      <th>85</th>\n",
       "      <td>Sydney</td>\n",
       "      <td>6,214,839</td>\n",
       "      <td>939,325</td>\n",
       "      <td>558</td>\n",
       "      <td>8.0</td>\n",
       "    </tr>\n",
       "    <tr>\n",
       "      <th>95</th>\n",
       "      <td>NaN</td>\n",
       "      <td>NaN</td>\n",
       "      <td>NaN</td>\n",
       "      <td>NaN</td>\n",
       "      <td>NaN</td>\n",
       "    </tr>\n",
       "  </tbody>\n",
       "</table>\n",
       "<p>96 rows × 5 columns</p>\n",
       "</div>"
      ],
      "text/plain": [
       "                                   LGA    Profit        Tax   Machines  \\\n",
       "51                              Kyogle    114,952       -           42   \n",
       "90                        Warrumbungle    664,337       -           96   \n",
       "42          Gwydir\\r\\nUralla\\r\\nWalcha    952,863       -           95   \n",
       "16                             Cabonne    871,085       -           92   \n",
       "39  Goulburn Mulwaree\\r\\nUpper Lachlan  6,884,021  1,058,053       385   \n",
       "..                                 ...        ...        ...       ...   \n",
       "91                            Waverley  4,885,521    912,744       369   \n",
       "22                            Cessnock  7,508,814    916,725       533   \n",
       "6                          Bega Valley  7,721,981    920,028       488   \n",
       "85                              Sydney  6,214,839    939,325       558   \n",
       "95                                 NaN        NaN        NaN       NaN   \n",
       "\n",
       "     Premises Count   \n",
       "51               5.0  \n",
       "90              10.0  \n",
       "42              10.0  \n",
       "16              11.0  \n",
       "39               7.0  \n",
       "..               ...  \n",
       "91               6.0  \n",
       "22              12.0  \n",
       "6               11.0  \n",
       "85               8.0  \n",
       "95               NaN  \n",
       "\n",
       "[96 rows x 5 columns]"
      ]
     },
     "execution_count": 21,
     "metadata": {},
     "output_type": "execute_result"
    }
   ],
   "source": [
    "gaming_data.sort_values(\" Tax \")"
   ]
  },
  {
   "cell_type": "code",
   "execution_count": 70,
   "metadata": {},
   "outputs": [
    {
     "data": {
      "text/html": [
       "<div>\n",
       "<style scoped>\n",
       "    .dataframe tbody tr th:only-of-type {\n",
       "        vertical-align: middle;\n",
       "    }\n",
       "\n",
       "    .dataframe tbody tr th {\n",
       "        vertical-align: top;\n",
       "    }\n",
       "\n",
       "    .dataframe thead th {\n",
       "        text-align: right;\n",
       "    }\n",
       "</style>\n",
       "<table border=\"1\" class=\"dataframe\">\n",
       "  <thead>\n",
       "    <tr style=\"text-align: right;\">\n",
       "      <th></th>\n",
       "      <th>LGA</th>\n",
       "      <th>Profit</th>\n",
       "      <th>Tax</th>\n",
       "      <th>Machines</th>\n",
       "      <th>Premises Count</th>\n",
       "    </tr>\n",
       "  </thead>\n",
       "  <tbody>\n",
       "    <tr>\n",
       "      <th>16</th>\n",
       "      <td>Cabonne</td>\n",
       "      <td>871,085</td>\n",
       "      <td>-</td>\n",
       "      <td>92</td>\n",
       "      <td>11.0</td>\n",
       "    </tr>\n",
       "    <tr>\n",
       "      <th>42</th>\n",
       "      <td>Gwydir\\r\\nUralla\\r\\nWalcha</td>\n",
       "      <td>952,863</td>\n",
       "      <td>-</td>\n",
       "      <td>95</td>\n",
       "      <td>10.0</td>\n",
       "    </tr>\n",
       "    <tr>\n",
       "      <th>51</th>\n",
       "      <td>Kyogle</td>\n",
       "      <td>114,952</td>\n",
       "      <td>-</td>\n",
       "      <td>42</td>\n",
       "      <td>5.0</td>\n",
       "    </tr>\n",
       "    <tr>\n",
       "      <th>90</th>\n",
       "      <td>Warrumbungle</td>\n",
       "      <td>664,337</td>\n",
       "      <td>-</td>\n",
       "      <td>96</td>\n",
       "      <td>10.0</td>\n",
       "    </tr>\n",
       "    <tr>\n",
       "      <th>39</th>\n",
       "      <td>Goulburn Mulwaree\\r\\nUpper Lachlan</td>\n",
       "      <td>6,884,021</td>\n",
       "      <td>1,058,053</td>\n",
       "      <td>385</td>\n",
       "      <td>7.0</td>\n",
       "    </tr>\n",
       "    <tr>\n",
       "      <th>...</th>\n",
       "      <td>...</td>\n",
       "      <td>...</td>\n",
       "      <td>...</td>\n",
       "      <td>...</td>\n",
       "      <td>...</td>\n",
       "    </tr>\n",
       "    <tr>\n",
       "      <th>91</th>\n",
       "      <td>Waverley</td>\n",
       "      <td>4,885,521</td>\n",
       "      <td>912,744</td>\n",
       "      <td>369</td>\n",
       "      <td>6.0</td>\n",
       "    </tr>\n",
       "    <tr>\n",
       "      <th>22</th>\n",
       "      <td>Cessnock</td>\n",
       "      <td>7,508,814</td>\n",
       "      <td>916,725</td>\n",
       "      <td>533</td>\n",
       "      <td>12.0</td>\n",
       "    </tr>\n",
       "    <tr>\n",
       "      <th>6</th>\n",
       "      <td>Bega Valley</td>\n",
       "      <td>7,721,981</td>\n",
       "      <td>920,028</td>\n",
       "      <td>488</td>\n",
       "      <td>11.0</td>\n",
       "    </tr>\n",
       "    <tr>\n",
       "      <th>85</th>\n",
       "      <td>Sydney</td>\n",
       "      <td>6,214,839</td>\n",
       "      <td>939,325</td>\n",
       "      <td>558</td>\n",
       "      <td>8.0</td>\n",
       "    </tr>\n",
       "    <tr>\n",
       "      <th>95</th>\n",
       "      <td>NaN</td>\n",
       "      <td>NaN</td>\n",
       "      <td>NaN</td>\n",
       "      <td>NaN</td>\n",
       "      <td>NaN</td>\n",
       "    </tr>\n",
       "  </tbody>\n",
       "</table>\n",
       "<p>96 rows × 5 columns</p>\n",
       "</div>"
      ],
      "text/plain": [
       "                                   LGA    Profit        Tax   Machines  \\\n",
       "16                             Cabonne    871,085       -           92   \n",
       "42          Gwydir\\r\\nUralla\\r\\nWalcha    952,863       -           95   \n",
       "51                              Kyogle    114,952       -           42   \n",
       "90                        Warrumbungle    664,337       -           96   \n",
       "39  Goulburn Mulwaree\\r\\nUpper Lachlan  6,884,021  1,058,053       385   \n",
       "..                                 ...        ...        ...       ...   \n",
       "91                            Waverley  4,885,521    912,744       369   \n",
       "22                            Cessnock  7,508,814    916,725       533   \n",
       "6                          Bega Valley  7,721,981    920,028       488   \n",
       "85                              Sydney  6,214,839    939,325       558   \n",
       "95                                 NaN        NaN        NaN       NaN   \n",
       "\n",
       "     Premises Count   \n",
       "16              11.0  \n",
       "42              10.0  \n",
       "51               5.0  \n",
       "90              10.0  \n",
       "39               7.0  \n",
       "..               ...  \n",
       "91               6.0  \n",
       "22              12.0  \n",
       "6               11.0  \n",
       "85               8.0  \n",
       "95               NaN  \n",
       "\n",
       "[96 rows x 5 columns]"
      ]
     },
     "execution_count": 70,
     "metadata": {},
     "output_type": "execute_result"
    }
   ],
   "source": [
    "gaming_data.sort_values([\" Tax \",\"LGA\"],ascending=True)"
   ]
  },
  {
   "cell_type": "code",
   "execution_count": 74,
   "metadata": {},
   "outputs": [
    {
     "data": {
      "text/html": [
       "<div>\n",
       "<style scoped>\n",
       "    .dataframe tbody tr th:only-of-type {\n",
       "        vertical-align: middle;\n",
       "    }\n",
       "\n",
       "    .dataframe tbody tr th {\n",
       "        vertical-align: top;\n",
       "    }\n",
       "\n",
       "    .dataframe thead th {\n",
       "        text-align: right;\n",
       "    }\n",
       "</style>\n",
       "<table border=\"1\" class=\"dataframe\">\n",
       "  <thead>\n",
       "    <tr style=\"text-align: right;\">\n",
       "      <th></th>\n",
       "      <th>Premises Count</th>\n",
       "    </tr>\n",
       "    <tr>\n",
       "      <th>Machines</th>\n",
       "      <th></th>\n",
       "    </tr>\n",
       "  </thead>\n",
       "  <tbody>\n",
       "    <tr>\n",
       "      <th>1,058</th>\n",
       "      <td>18.0</td>\n",
       "    </tr>\n",
       "    <tr>\n",
       "      <th>1,067</th>\n",
       "      <td>8.0</td>\n",
       "    </tr>\n",
       "    <tr>\n",
       "      <th>1,076</th>\n",
       "      <td>28.0</td>\n",
       "    </tr>\n",
       "    <tr>\n",
       "      <th>1,224</th>\n",
       "      <td>11.0</td>\n",
       "    </tr>\n",
       "    <tr>\n",
       "      <th>1,387</th>\n",
       "      <td>23.0</td>\n",
       "    </tr>\n",
       "    <tr>\n",
       "      <th>...</th>\n",
       "      <td>...</td>\n",
       "    </tr>\n",
       "    <tr>\n",
       "      <th>93</th>\n",
       "      <td>5.0</td>\n",
       "    </tr>\n",
       "    <tr>\n",
       "      <th>95</th>\n",
       "      <td>10.0</td>\n",
       "    </tr>\n",
       "    <tr>\n",
       "      <th>956</th>\n",
       "      <td>14.0</td>\n",
       "    </tr>\n",
       "    <tr>\n",
       "      <th>96</th>\n",
       "      <td>10.0</td>\n",
       "    </tr>\n",
       "    <tr>\n",
       "      <th>973</th>\n",
       "      <td>20.0</td>\n",
       "    </tr>\n",
       "  </tbody>\n",
       "</table>\n",
       "<p>93 rows × 1 columns</p>\n",
       "</div>"
      ],
      "text/plain": [
       "            Premises Count \n",
       " Machines                  \n",
       "1,058                  18.0\n",
       "1,067                   8.0\n",
       "1,076                  28.0\n",
       "1,224                  11.0\n",
       "1,387                  23.0\n",
       "...                     ...\n",
       "93                      5.0\n",
       "95                     10.0\n",
       "956                    14.0\n",
       "96                     10.0\n",
       "973                    20.0\n",
       "\n",
       "[93 rows x 1 columns]"
      ]
     },
     "execution_count": 74,
     "metadata": {},
     "output_type": "execute_result"
    }
   ],
   "source": [
    "gaming_data.groupby([\" Machines\"]).mean()"
   ]
  }
 ],
 "metadata": {
  "kernelspec": {
   "display_name": "Python 3.10.5 64-bit (windows store)",
   "language": "python",
   "name": "python3"
  },
  "language_info": {
   "codemirror_mode": {
    "name": "ipython",
    "version": 3
   },
   "file_extension": ".py",
   "mimetype": "text/x-python",
   "name": "python",
   "nbconvert_exporter": "python",
   "pygments_lexer": "ipython3",
   "version": "3.10.6"
  },
  "orig_nbformat": 4,
  "vscode": {
   "interpreter": {
    "hash": "23f823caeccb1684f6bd50492b68bb5eab208de0408f39b2457c6a38c0e8e818"
   }
  }
 },
 "nbformat": 4,
 "nbformat_minor": 2
}
