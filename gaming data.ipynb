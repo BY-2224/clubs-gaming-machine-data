{
 "cells": [
  {
   "cell_type": "markdown",
   "metadata": {
    "slideshow": {
     "slide_type": "slide"
    }
   },
   "source": [
    "Gambling Data in NSW\n",
    "By Berny Yan\n",
    "Github Account- BY-2224"
   ]
  },
  {
   "cell_type": "code",
   "execution_count": 168,
   "metadata": {
    "slideshow": {
     "slide_type": "skip"
    }
   },
   "outputs": [],
   "source": [
    "import matplotlib\n",
    "import matplotlib.pyplot as plt\n",
    "import numpy as np\n",
    "import pandas as pd\n",
    "import os\n",
    "from datetime import datetime"
   ]
  },
  {
   "cell_type": "markdown",
   "metadata": {
    "slideshow": {
     "slide_type": "skip"
    }
   },
   "source": [
    "data setup:"
   ]
  },
  {
   "cell_type": "code",
   "execution_count": 169,
   "metadata": {
    "slideshow": {
     "slide_type": "skip"
    }
   },
   "outputs": [],
   "source": [
    "%matplotlib inline"
   ]
  },
  {
   "cell_type": "code",
   "execution_count": 170,
   "metadata": {
    "slideshow": {
     "slide_type": "skip"
    }
   },
   "outputs": [],
   "source": [
    "saved_style_state = matplotlib.rcParams.copy() #give us a style state to go back to"
   ]
  },
  {
   "cell_type": "markdown",
   "metadata": {
    "slideshow": {
     "slide_type": "skip"
    }
   },
   "source": [
    "CSV file of the gaming data"
   ]
  },
  {
   "cell_type": "code",
   "execution_count": 171,
   "metadata": {
    "slideshow": {
     "slide_type": "skip"
    }
   },
   "outputs": [
    {
     "name": "stdout",
     "output_type": "stream",
     "text": [
      "done\n"
     ]
    }
   ],
   "source": [
    "gaming_data = pd.read_csv(\"clubs-gaming-machine-report-by-lga.csv\")\n",
    "print(\"done\")"
   ]
  },
  {
   "cell_type": "code",
   "execution_count": 172,
   "metadata": {
    "slideshow": {
     "slide_type": "slide"
    }
   },
   "outputs": [
    {
     "data": {
      "text/html": [
       "<div>\n",
       "<style scoped>\n",
       "    .dataframe tbody tr th:only-of-type {\n",
       "        vertical-align: middle;\n",
       "    }\n",
       "\n",
       "    .dataframe tbody tr th {\n",
       "        vertical-align: top;\n",
       "    }\n",
       "\n",
       "    .dataframe thead th {\n",
       "        text-align: right;\n",
       "    }\n",
       "</style>\n",
       "<table border=\"1\" class=\"dataframe\">\n",
       "  <thead>\n",
       "    <tr style=\"text-align: right;\">\n",
       "      <th></th>\n",
       "      <th>LGA</th>\n",
       "      <th>Profit</th>\n",
       "      <th>Tax</th>\n",
       "      <th>Machines</th>\n",
       "      <th>Premises Count</th>\n",
       "    </tr>\n",
       "  </thead>\n",
       "  <tbody>\n",
       "    <tr>\n",
       "      <th>0</th>\n",
       "      <td>Albury\\r\\nGreater Hume</td>\n",
       "      <td>24405524</td>\n",
       "      <td>5266934</td>\n",
       "      <td>850</td>\n",
       "      <td>8</td>\n",
       "    </tr>\n",
       "    <tr>\n",
       "      <th>1</th>\n",
       "      <td>Armidale\\r\\nGlen Innes Severn</td>\n",
       "      <td>5778231</td>\n",
       "      <td>788695</td>\n",
       "      <td>267</td>\n",
       "      <td>7</td>\n",
       "    </tr>\n",
       "    <tr>\n",
       "      <th>2</th>\n",
       "      <td>Ballina</td>\n",
       "      <td>8496734</td>\n",
       "      <td>1451539</td>\n",
       "      <td>383</td>\n",
       "      <td>7</td>\n",
       "    </tr>\n",
       "    <tr>\n",
       "      <th>3</th>\n",
       "      <td>Balranald\\r\\nCarrathool\\r\\nCentral Darling</td>\n",
       "      <td>4840075</td>\n",
       "      <td>744971</td>\n",
       "      <td>202</td>\n",
       "      <td>6</td>\n",
       "    </tr>\n",
       "    <tr>\n",
       "      <th>4</th>\n",
       "      <td>Bathurst\\r\\nBlayney</td>\n",
       "      <td>5356026</td>\n",
       "      <td>894190</td>\n",
       "      <td>275</td>\n",
       "      <td>7</td>\n",
       "    </tr>\n",
       "  </tbody>\n",
       "</table>\n",
       "</div>"
      ],
      "text/plain": [
       "                                          LGA    Profit      Tax  Machines  \\\n",
       "0                      Albury\\r\\nGreater Hume  24405524  5266934       850   \n",
       "1               Armidale\\r\\nGlen Innes Severn   5778231   788695       267   \n",
       "2                                     Ballina   8496734  1451539       383   \n",
       "3  Balranald\\r\\nCarrathool\\r\\nCentral Darling   4840075   744971       202   \n",
       "4                         Bathurst\\r\\nBlayney   5356026   894190       275   \n",
       "\n",
       "   Premises Count  \n",
       "0               8  \n",
       "1               7  \n",
       "2               7  \n",
       "3               6  \n",
       "4               7  "
      ]
     },
     "execution_count": 172,
     "metadata": {},
     "output_type": "execute_result"
    }
   ],
   "source": [
    "gaming_data.head()"
   ]
  },
  {
   "cell_type": "markdown",
   "metadata": {
    "slideshow": {
     "slide_type": "slide"
    }
   },
   "source": [
    "Columns of the gaming data"
   ]
  },
  {
   "cell_type": "code",
   "execution_count": 173,
   "metadata": {
    "slideshow": {
     "slide_type": "slide"
    }
   },
   "outputs": [
    {
     "data": {
      "text/plain": [
       "Index(['LGA', 'Profit', 'Tax', 'Machines', 'Premises Count'], dtype='object')"
      ]
     },
     "execution_count": 173,
     "metadata": {},
     "output_type": "execute_result"
    }
   ],
   "source": [
    "gaming_data.columns"
   ]
  },
  {
   "cell_type": "markdown",
   "metadata": {
    "slideshow": {
     "slide_type": "slide"
    }
   },
   "source": [
    "row of the gaming data"
   ]
  },
  {
   "cell_type": "code",
   "execution_count": 174,
   "metadata": {
    "slideshow": {
     "slide_type": "slide"
    }
   },
   "outputs": [
    {
     "data": {
      "text/plain": [
       "LGA               Armidale\\r\\nGlen Innes Severn\n",
       "Profit                                  5778231\n",
       "Tax                                      788695\n",
       "Machines                                    267\n",
       "Premises Count                                7\n",
       "Name: 1, dtype: object"
      ]
     },
     "execution_count": 174,
     "metadata": {},
     "output_type": "execute_result"
    }
   ],
   "source": [
    "row_one = gaming_data.iloc[1]\n",
    "row_one"
   ]
  },
  {
   "cell_type": "code",
   "execution_count": 175,
   "metadata": {
    "slideshow": {
     "slide_type": "slide"
    }
   },
   "outputs": [
    {
     "data": {
      "text/plain": [
       "'788695'"
      ]
     },
     "execution_count": 175,
     "metadata": {},
     "output_type": "execute_result"
    }
   ],
   "source": [
    "row_one[\"Tax\"]\n"
   ]
  },
  {
   "cell_type": "code",
   "execution_count": 176,
   "metadata": {
    "slideshow": {
     "slide_type": "slide"
    }
   },
   "outputs": [
    {
     "data": {
      "text/plain": [
       "LGA               Blacktown\n",
       "Profit             37381922\n",
       "Tax                 7812098\n",
       "Machines               2079\n",
       "Premises Count           11\n",
       "Name: 9, dtype: object"
      ]
     },
     "execution_count": 176,
     "metadata": {},
     "output_type": "execute_result"
    }
   ],
   "source": [
    "row_two = gaming_data.iloc[9]\n",
    "row_two"
   ]
  },
  {
   "cell_type": "code",
   "execution_count": 177,
   "metadata": {
    "slideshow": {
     "slide_type": "slide"
    }
   },
   "outputs": [
    {
     "data": {
      "text/plain": [
       "'7812098'"
      ]
     },
     "execution_count": 177,
     "metadata": {},
     "output_type": "execute_result"
    }
   ],
   "source": [
    "row_two[\"Tax\"]"
   ]
  },
  {
   "cell_type": "code",
   "execution_count": 178,
   "metadata": {
    "slideshow": {
     "slide_type": "slide"
    }
   },
   "outputs": [
    {
     "data": {
      "text/html": [
       "<div>\n",
       "<style scoped>\n",
       "    .dataframe tbody tr th:only-of-type {\n",
       "        vertical-align: middle;\n",
       "    }\n",
       "\n",
       "    .dataframe tbody tr th {\n",
       "        vertical-align: top;\n",
       "    }\n",
       "\n",
       "    .dataframe thead th {\n",
       "        text-align: right;\n",
       "    }\n",
       "</style>\n",
       "<table border=\"1\" class=\"dataframe\">\n",
       "  <thead>\n",
       "    <tr style=\"text-align: right;\">\n",
       "      <th></th>\n",
       "      <th>LGA</th>\n",
       "      <th>Profit</th>\n",
       "      <th>Tax</th>\n",
       "      <th>Machines</th>\n",
       "      <th>Premises Count</th>\n",
       "    </tr>\n",
       "  </thead>\n",
       "  <tbody>\n",
       "    <tr>\n",
       "      <th>0</th>\n",
       "      <td>Albury\\r\\nGreater Hume</td>\n",
       "      <td>24405524</td>\n",
       "      <td>5266934</td>\n",
       "      <td>850</td>\n",
       "      <td>8</td>\n",
       "    </tr>\n",
       "    <tr>\n",
       "      <th>1</th>\n",
       "      <td>Armidale\\r\\nGlen Innes Severn</td>\n",
       "      <td>5778231</td>\n",
       "      <td>788695</td>\n",
       "      <td>267</td>\n",
       "      <td>7</td>\n",
       "    </tr>\n",
       "    <tr>\n",
       "      <th>2</th>\n",
       "      <td>Ballina</td>\n",
       "      <td>8496734</td>\n",
       "      <td>1451539</td>\n",
       "      <td>383</td>\n",
       "      <td>7</td>\n",
       "    </tr>\n",
       "  </tbody>\n",
       "</table>\n",
       "</div>"
      ],
      "text/plain": [
       "                             LGA    Profit      Tax  Machines  Premises Count\n",
       "0         Albury\\r\\nGreater Hume  24405524  5266934       850               8\n",
       "1  Armidale\\r\\nGlen Innes Severn   5778231   788695       267               7\n",
       "2                        Ballina   8496734  1451539       383               7"
      ]
     },
     "execution_count": 178,
     "metadata": {},
     "output_type": "execute_result"
    }
   ],
   "source": [
    "gaming_data.head(3)"
   ]
  },
  {
   "cell_type": "code",
   "execution_count": 179,
   "metadata": {
    "slideshow": {
     "slide_type": "slide"
    }
   },
   "outputs": [
    {
     "data": {
      "text/html": [
       "<div>\n",
       "<style scoped>\n",
       "    .dataframe tbody tr th:only-of-type {\n",
       "        vertical-align: middle;\n",
       "    }\n",
       "\n",
       "    .dataframe tbody tr th {\n",
       "        vertical-align: top;\n",
       "    }\n",
       "\n",
       "    .dataframe thead th {\n",
       "        text-align: right;\n",
       "    }\n",
       "</style>\n",
       "<table border=\"1\" class=\"dataframe\">\n",
       "  <thead>\n",
       "    <tr style=\"text-align: right;\">\n",
       "      <th></th>\n",
       "      <th>Profit</th>\n",
       "      <th>Machines</th>\n",
       "      <th>Premises Count</th>\n",
       "    </tr>\n",
       "  </thead>\n",
       "  <tbody>\n",
       "    <tr>\n",
       "      <th>count</th>\n",
       "      <td>9.500000e+01</td>\n",
       "      <td>95.000000</td>\n",
       "      <td>95.000000</td>\n",
       "    </tr>\n",
       "    <tr>\n",
       "      <th>mean</th>\n",
       "      <td>1.180606e+07</td>\n",
       "      <td>681.789474</td>\n",
       "      <td>10.863158</td>\n",
       "    </tr>\n",
       "    <tr>\n",
       "      <th>std</th>\n",
       "      <td>1.464486e+07</td>\n",
       "      <td>761.533069</td>\n",
       "      <td>6.967417</td>\n",
       "    </tr>\n",
       "    <tr>\n",
       "      <th>min</th>\n",
       "      <td>1.149520e+05</td>\n",
       "      <td>42.000000</td>\n",
       "      <td>5.000000</td>\n",
       "    </tr>\n",
       "    <tr>\n",
       "      <th>25%</th>\n",
       "      <td>2.917159e+06</td>\n",
       "      <td>181.000000</td>\n",
       "      <td>7.000000</td>\n",
       "    </tr>\n",
       "    <tr>\n",
       "      <th>50%</th>\n",
       "      <td>7.054930e+06</td>\n",
       "      <td>385.000000</td>\n",
       "      <td>9.000000</td>\n",
       "    </tr>\n",
       "    <tr>\n",
       "      <th>75%</th>\n",
       "      <td>1.432903e+07</td>\n",
       "      <td>878.500000</td>\n",
       "      <td>12.000000</td>\n",
       "    </tr>\n",
       "    <tr>\n",
       "      <th>max</th>\n",
       "      <td>8.867264e+07</td>\n",
       "      <td>3852.000000</td>\n",
       "      <td>36.000000</td>\n",
       "    </tr>\n",
       "  </tbody>\n",
       "</table>\n",
       "</div>"
      ],
      "text/plain": [
       "             Profit     Machines  Premises Count\n",
       "count  9.500000e+01    95.000000       95.000000\n",
       "mean   1.180606e+07   681.789474       10.863158\n",
       "std    1.464486e+07   761.533069        6.967417\n",
       "min    1.149520e+05    42.000000        5.000000\n",
       "25%    2.917159e+06   181.000000        7.000000\n",
       "50%    7.054930e+06   385.000000        9.000000\n",
       "75%    1.432903e+07   878.500000       12.000000\n",
       "max    8.867264e+07  3852.000000       36.000000"
      ]
     },
     "execution_count": 179,
     "metadata": {},
     "output_type": "execute_result"
    }
   ],
   "source": [
    "gaming_data.describe()"
   ]
  },
  {
   "cell_type": "code",
   "execution_count": 180,
   "metadata": {
    "slideshow": {
     "slide_type": "slide"
    }
   },
   "outputs": [
    {
     "name": "stdout",
     "output_type": "stream",
     "text": [
      "0                         Albury\\r\\nGreater Hume\n",
      "1                  Armidale\\r\\nGlen Innes Severn\n",
      "2                                        Ballina\n",
      "3     Balranald\\r\\nCarrathool\\r\\nCentral Darling\n",
      "4                            Bathurst\\r\\nBlayney\n",
      "                         ...                    \n",
      "90                                  Warrumbungle\n",
      "91                                      Waverley\n",
      "92                                 Wingecarribee\n",
      "93                                   Wollondilly\n",
      "94                                    Wollongong\n",
      "Name: LGA, Length: 95, dtype: object\n"
     ]
    }
   ],
   "source": [
    "print(gaming_data.LGA)"
   ]
  },
  {
   "cell_type": "code",
   "execution_count": 181,
   "metadata": {
    "slideshow": {
     "slide_type": "slide"
    }
   },
   "outputs": [
    {
     "data": {
      "text/plain": [
       "279     2\n",
       "237     2\n",
       "850     1\n",
       "1224    1\n",
       "300     1\n",
       "       ..\n",
       "139     1\n",
       "177     1\n",
       "93      1\n",
       "80      1\n",
       "2156    1\n",
       "Name: Machines, Length: 93, dtype: int64"
      ]
     },
     "execution_count": 181,
     "metadata": {},
     "output_type": "execute_result"
    }
   ],
   "source": [
    "gaming_data['Machines'].value_counts()"
   ]
  },
  {
   "cell_type": "code",
   "execution_count": 182,
   "metadata": {
    "slideshow": {
     "slide_type": "slide"
    }
   },
   "outputs": [
    {
     "data": {
      "text/plain": [
       "7     16\n",
       "5     13\n",
       "6     10\n",
       "11     8\n",
       "9      8\n",
       "8      7\n",
       "10     7\n",
       "12     5\n",
       "15     5\n",
       "14     2\n",
       "23     2\n",
       "28     2\n",
       "29     2\n",
       "13     2\n",
       "18     2\n",
       "33     1\n",
       "36     1\n",
       "20     1\n",
       "35     1\n",
       "Name: Premises Count, dtype: int64"
      ]
     },
     "execution_count": 182,
     "metadata": {},
     "output_type": "execute_result"
    }
   ],
   "source": [
    "gaming_data[\"Premises Count\"].value_counts()"
   ]
  },
  {
   "cell_type": "code",
   "execution_count": 183,
   "metadata": {
    "slideshow": {
     "slide_type": "slide"
    }
   },
   "outputs": [
    {
     "data": {
      "text/html": [
       "<div>\n",
       "<style scoped>\n",
       "    .dataframe tbody tr th:only-of-type {\n",
       "        vertical-align: middle;\n",
       "    }\n",
       "\n",
       "    .dataframe tbody tr th {\n",
       "        vertical-align: top;\n",
       "    }\n",
       "\n",
       "    .dataframe thead th {\n",
       "        text-align: right;\n",
       "    }\n",
       "</style>\n",
       "<table border=\"1\" class=\"dataframe\">\n",
       "  <thead>\n",
       "    <tr style=\"text-align: right;\">\n",
       "      <th></th>\n",
       "      <th>LGA</th>\n",
       "      <th>Profit</th>\n",
       "      <th>Tax</th>\n",
       "      <th>Machines</th>\n",
       "      <th>Premises Count</th>\n",
       "    </tr>\n",
       "  </thead>\n",
       "  <tbody>\n",
       "    <tr>\n",
       "      <th>51</th>\n",
       "      <td>Kyogle</td>\n",
       "      <td>114952</td>\n",
       "      <td>-</td>\n",
       "      <td>42</td>\n",
       "      <td>5</td>\n",
       "    </tr>\n",
       "    <tr>\n",
       "      <th>90</th>\n",
       "      <td>Warrumbungle</td>\n",
       "      <td>664337</td>\n",
       "      <td>-</td>\n",
       "      <td>96</td>\n",
       "      <td>10</td>\n",
       "    </tr>\n",
       "    <tr>\n",
       "      <th>42</th>\n",
       "      <td>Gwydir\\r\\nUralla\\r\\nWalcha</td>\n",
       "      <td>952863</td>\n",
       "      <td>-</td>\n",
       "      <td>95</td>\n",
       "      <td>10</td>\n",
       "    </tr>\n",
       "    <tr>\n",
       "      <th>16</th>\n",
       "      <td>Cabonne</td>\n",
       "      <td>871085</td>\n",
       "      <td>-</td>\n",
       "      <td>92</td>\n",
       "      <td>11</td>\n",
       "    </tr>\n",
       "    <tr>\n",
       "      <th>12</th>\n",
       "      <td>Bogan\\r\\nBourke\\r\\nBrewarrina</td>\n",
       "      <td>1910027</td>\n",
       "      <td>103516</td>\n",
       "      <td>85</td>\n",
       "      <td>5</td>\n",
       "    </tr>\n",
       "    <tr>\n",
       "      <th>...</th>\n",
       "      <td>...</td>\n",
       "      <td>...</td>\n",
       "      <td>...</td>\n",
       "      <td>...</td>\n",
       "      <td>...</td>\n",
       "    </tr>\n",
       "    <tr>\n",
       "      <th>4</th>\n",
       "      <td>Bathurst\\r\\nBlayney</td>\n",
       "      <td>5356026</td>\n",
       "      <td>894190</td>\n",
       "      <td>275</td>\n",
       "      <td>7</td>\n",
       "    </tr>\n",
       "    <tr>\n",
       "      <th>91</th>\n",
       "      <td>Waverley</td>\n",
       "      <td>4885521</td>\n",
       "      <td>912744</td>\n",
       "      <td>369</td>\n",
       "      <td>6</td>\n",
       "    </tr>\n",
       "    <tr>\n",
       "      <th>22</th>\n",
       "      <td>Cessnock</td>\n",
       "      <td>7508814</td>\n",
       "      <td>916725</td>\n",
       "      <td>533</td>\n",
       "      <td>12</td>\n",
       "    </tr>\n",
       "    <tr>\n",
       "      <th>6</th>\n",
       "      <td>Bega Valley</td>\n",
       "      <td>7721981</td>\n",
       "      <td>920028</td>\n",
       "      <td>488</td>\n",
       "      <td>11</td>\n",
       "    </tr>\n",
       "    <tr>\n",
       "      <th>85</th>\n",
       "      <td>Sydney</td>\n",
       "      <td>6214839</td>\n",
       "      <td>939325</td>\n",
       "      <td>558</td>\n",
       "      <td>8</td>\n",
       "    </tr>\n",
       "  </tbody>\n",
       "</table>\n",
       "<p>95 rows × 5 columns</p>\n",
       "</div>"
      ],
      "text/plain": [
       "                              LGA   Profit     Tax  Machines  Premises Count\n",
       "51                         Kyogle   114952    -           42               5\n",
       "90                   Warrumbungle   664337    -           96              10\n",
       "42     Gwydir\\r\\nUralla\\r\\nWalcha   952863    -           95              10\n",
       "16                        Cabonne   871085    -           92              11\n",
       "12  Bogan\\r\\nBourke\\r\\nBrewarrina  1910027  103516        85               5\n",
       "..                            ...      ...     ...       ...             ...\n",
       "4             Bathurst\\r\\nBlayney  5356026  894190       275               7\n",
       "91                       Waverley  4885521  912744       369               6\n",
       "22                       Cessnock  7508814  916725       533              12\n",
       "6                     Bega Valley  7721981  920028       488              11\n",
       "85                         Sydney  6214839  939325       558               8\n",
       "\n",
       "[95 rows x 5 columns]"
      ]
     },
     "execution_count": 183,
     "metadata": {},
     "output_type": "execute_result"
    }
   ],
   "source": [
    "gaming_data.sort_values(\"Tax\")"
   ]
  },
  {
   "cell_type": "code",
   "execution_count": 184,
   "metadata": {
    "slideshow": {
     "slide_type": "slide"
    }
   },
   "outputs": [
    {
     "data": {
      "text/html": [
       "<div>\n",
       "<style scoped>\n",
       "    .dataframe tbody tr th:only-of-type {\n",
       "        vertical-align: middle;\n",
       "    }\n",
       "\n",
       "    .dataframe tbody tr th {\n",
       "        vertical-align: top;\n",
       "    }\n",
       "\n",
       "    .dataframe thead th {\n",
       "        text-align: right;\n",
       "    }\n",
       "</style>\n",
       "<table border=\"1\" class=\"dataframe\">\n",
       "  <thead>\n",
       "    <tr style=\"text-align: right;\">\n",
       "      <th></th>\n",
       "      <th>LGA</th>\n",
       "      <th>Profit</th>\n",
       "      <th>Tax</th>\n",
       "      <th>Machines</th>\n",
       "      <th>Premises Count</th>\n",
       "    </tr>\n",
       "  </thead>\n",
       "  <tbody>\n",
       "    <tr>\n",
       "      <th>93</th>\n",
       "      <td>Wollondilly</td>\n",
       "      <td>841053</td>\n",
       "      <td>24090</td>\n",
       "      <td>167</td>\n",
       "      <td>5</td>\n",
       "    </tr>\n",
       "    <tr>\n",
       "      <th>70</th>\n",
       "      <td>Orange</td>\n",
       "      <td>7945998</td>\n",
       "      <td>1497765</td>\n",
       "      <td>300</td>\n",
       "      <td>5</td>\n",
       "    </tr>\n",
       "    <tr>\n",
       "      <th>64</th>\n",
       "      <td>Muswellbrook</td>\n",
       "      <td>3831844</td>\n",
       "      <td>540037</td>\n",
       "      <td>170</td>\n",
       "      <td>5</td>\n",
       "    </tr>\n",
       "    <tr>\n",
       "      <th>62</th>\n",
       "      <td>Mosman\\r\\nNorth Sydney</td>\n",
       "      <td>5158368</td>\n",
       "      <td>852954</td>\n",
       "      <td>381</td>\n",
       "      <td>5</td>\n",
       "    </tr>\n",
       "    <tr>\n",
       "      <th>51</th>\n",
       "      <td>Kyogle</td>\n",
       "      <td>114952</td>\n",
       "      <td>-</td>\n",
       "      <td>42</td>\n",
       "      <td>5</td>\n",
       "    </tr>\n",
       "  </tbody>\n",
       "</table>\n",
       "</div>"
      ],
      "text/plain": [
       "                       LGA   Profit      Tax  Machines  Premises Count\n",
       "93             Wollondilly   841053    24090       167               5\n",
       "70                  Orange  7945998  1497765       300               5\n",
       "64            Muswellbrook  3831844   540037       170               5\n",
       "62  Mosman\\r\\nNorth Sydney  5158368   852954       381               5\n",
       "51                  Kyogle   114952     -           42               5"
      ]
     },
     "execution_count": 184,
     "metadata": {},
     "output_type": "execute_result"
    }
   ],
   "source": [
    "clubs_no1=gaming_data.sort_values([\"Premises Count\",\"LGA\"],ascending=[True,False]).head(5)\n",
    "clubs_no1"
   ]
  },
  {
   "cell_type": "code",
   "execution_count": 185,
   "metadata": {
    "slideshow": {
     "slide_type": "skip"
    }
   },
   "outputs": [
    {
     "data": {
      "text/plain": [
       "93               Wollondilly\n",
       "70                    Orange\n",
       "64              Muswellbrook\n",
       "62    Mosman\\r\\nNorth Sydney\n",
       "51                    Kyogle\n",
       "Name: LGA, dtype: object"
      ]
     },
     "execution_count": 185,
     "metadata": {},
     "output_type": "execute_result"
    }
   ],
   "source": [
    "x1_axis=clubs_no1.iloc[:,0]\n",
    "x1_axis"
   ]
  },
  {
   "cell_type": "code",
   "execution_count": 186,
   "metadata": {
    "slideshow": {
     "slide_type": "skip"
    }
   },
   "outputs": [
    {
     "data": {
      "text/plain": [
       "93    5\n",
       "70    5\n",
       "64    5\n",
       "62    5\n",
       "51    5\n",
       "Name: Premises Count, dtype: int64"
      ]
     },
     "execution_count": 186,
     "metadata": {},
     "output_type": "execute_result"
    }
   ],
   "source": [
    "y1_axis=clubs_no1.iloc[:,4]\n",
    "y1_axis"
   ]
  },
  {
   "cell_type": "code",
   "execution_count": 187,
   "metadata": {
    "slideshow": {
     "slide_type": "slide"
    }
   },
   "outputs": [
    {
     "name": "stderr",
     "output_type": "stream",
     "text": [
      ") missing from current font.al\\Programs\\Python\\Python310\\lib\\site-packages\\IPython\\core\\pylabtools.py:151: UserWarning: Glyph 13 (\n",
      "  fig.canvas.print_figure(bytes_io, **kw)\n"
     ]
    },
    {
     "data": {
      "image/png": "[encoded data removed]",
      "text/plain": [
       "<Figure size 432x288 with 1 Axes>"
      ]
     },
     "metadata": {
      "needs_background": "light"
     },
     "output_type": "display_data"
    }
   ],
   "source": [
    "plt.barh(x1_axis,y1_axis,height=0.5)\n",
    "plt.ylabel('LGA')\n",
    "plt.xlabel('Premises Count')\n",
    "plt.title('Premises Count in each LGA')\n",
    "plt.show()\n"
   ]
  },
  {
   "cell_type": "code",
   "execution_count": 188,
   "metadata": {
    "slideshow": {
     "slide_type": "skip"
    }
   },
   "outputs": [
    {
     "data": {
      "text/plain": [
       "93     841053\n",
       "70    7945998\n",
       "64    3831844\n",
       "62    5158368\n",
       "51     114952\n",
       "Name: Profit, dtype: int64"
      ]
     },
     "execution_count": 188,
     "metadata": {},
     "output_type": "execute_result"
    }
   ],
   "source": [
    "profit1=clubs_no1.iloc[:,1]\n",
    "profit1"
   ]
  },
  {
   "cell_type": "markdown",
   "metadata": {
    "slideshow": {
     "slide_type": "slide"
    }
   },
   "source": [
    "Profit of the least number of clubs in each LGA"
   ]
  },
  {
   "cell_type": "code",
   "execution_count": 189,
   "metadata": {
    "slideshow": {
     "slide_type": "slide"
    }
   },
   "outputs": [
    {
     "data": {
      "text/plain": [
       "Text(0.5, 1.0, 'Profits in each LGA')"
      ]
     },
     "execution_count": 189,
     "metadata": {},
     "output_type": "execute_result"
    },
    {
     "name": "stderr",
     "output_type": "stream",
     "text": [
      ") missing from current font.al\\Programs\\Python\\Python310\\lib\\site-packages\\IPython\\core\\pylabtools.py:151: UserWarning: Glyph 13 (\n",
      "  fig.canvas.print_figure(bytes_io, **kw)\n"
     ]
    },
    {
     "data": {
      "image/png": "[encoded data removed]",
      "text/plain": [
       "<Figure size 432x288 with 1 Axes>"
      ]
     },
     "metadata": {
      "needs_background": "light"
     },
     "output_type": "display_data"
    }
   ],
   "source": [
    "plt.barh(x1_axis,profit1, height=0.5)\n",
    "plt.ylabel('LGA')\n",
    "plt.xlabel('Profit')\n",
    "plt.title('Profits in each LGA')\n",
    "\n"
   ]
  },
  {
   "cell_type": "code",
   "execution_count": 190,
   "metadata": {
    "slideshow": {
     "slide_type": "skip"
    }
   },
   "outputs": [
    {
     "data": {
      "text/plain": [
       "93      24090\n",
       "70    1497765\n",
       "64     540037\n",
       "62     852954\n",
       "51       -   \n",
       "Name: Tax, dtype: object"
      ]
     },
     "execution_count": 190,
     "metadata": {},
     "output_type": "execute_result"
    }
   ],
   "source": [
    "tax1=clubs_no1.iloc[:,2]\n",
    "tax1\n"
   ]
  },
  {
   "cell_type": "code",
   "execution_count": 191,
   "metadata": {
    "slideshow": {
     "slide_type": "skip"
    }
   },
   "outputs": [
    {
     "data": {
      "text/plain": [
       "<BarContainer object of 5 artists>"
      ]
     },
     "execution_count": 191,
     "metadata": {},
     "output_type": "execute_result"
    },
    {
     "data": {
      "image/png": "[encoded data removed]",
      "text/plain": [
       "<Figure size 432x288 with 1 Axes>"
      ]
     },
     "metadata": {
      "needs_background": "light"
     },
     "output_type": "display_data"
    }
   ],
   "source": [
    "y2_axis=np.arange(len(x1_axis))\n",
    "plt.bar(y2_axis-0.2, tax1, width=0.4)\n",
    "plt.bar(y2_axis+0.2,profit1,width=0.4)\n",
    "\n"
   ]
  },
  {
   "cell_type": "code",
   "execution_count": 192,
   "metadata": {
    "slideshow": {
     "slide_type": "slide"
    }
   },
   "outputs": [
    {
     "data": {
      "text/html": [
       "<div>\n",
       "<style scoped>\n",
       "    .dataframe tbody tr th:only-of-type {\n",
       "        vertical-align: middle;\n",
       "    }\n",
       "\n",
       "    .dataframe tbody tr th {\n",
       "        vertical-align: top;\n",
       "    }\n",
       "\n",
       "    .dataframe thead th {\n",
       "        text-align: right;\n",
       "    }\n",
       "</style>\n",
       "<table border=\"1\" class=\"dataframe\">\n",
       "  <thead>\n",
       "    <tr style=\"text-align: right;\">\n",
       "      <th></th>\n",
       "      <th>LGA</th>\n",
       "      <th>Profit</th>\n",
       "      <th>Tax</th>\n",
       "      <th>Machines</th>\n",
       "      <th>Premises Count</th>\n",
       "    </tr>\n",
       "  </thead>\n",
       "  <tbody>\n",
       "    <tr>\n",
       "      <th>21</th>\n",
       "      <td>Central Coast</td>\n",
       "      <td>48423291</td>\n",
       "      <td>7556742</td>\n",
       "      <td>3587</td>\n",
       "      <td>36</td>\n",
       "    </tr>\n",
       "    <tr>\n",
       "      <th>94</th>\n",
       "      <td>Wollongong</td>\n",
       "      <td>26318771</td>\n",
       "      <td>3687584</td>\n",
       "      <td>2156</td>\n",
       "      <td>35</td>\n",
       "    </tr>\n",
       "    <tr>\n",
       "      <th>52</th>\n",
       "      <td>Lake Macquarie</td>\n",
       "      <td>26199449</td>\n",
       "      <td>3592350</td>\n",
       "      <td>1858</td>\n",
       "      <td>33</td>\n",
       "    </tr>\n",
       "    <tr>\n",
       "      <th>68</th>\n",
       "      <td>Newcastle</td>\n",
       "      <td>31846408</td>\n",
       "      <td>5836602</td>\n",
       "      <td>1937</td>\n",
       "      <td>29</td>\n",
       "    </tr>\n",
       "    <tr>\n",
       "      <th>20</th>\n",
       "      <td>Canterbury-Bankstown</td>\n",
       "      <td>79269903</td>\n",
       "      <td>16630822</td>\n",
       "      <td>3852</td>\n",
       "      <td>29</td>\n",
       "    </tr>\n",
       "    <tr>\n",
       "      <th>59</th>\n",
       "      <td>Mid-Coast</td>\n",
       "      <td>18877112</td>\n",
       "      <td>2298974</td>\n",
       "      <td>1076</td>\n",
       "      <td>28</td>\n",
       "    </tr>\n",
       "    <tr>\n",
       "      <th>69</th>\n",
       "      <td>Northern Beaches</td>\n",
       "      <td>22138516</td>\n",
       "      <td>3764853</td>\n",
       "      <td>1691</td>\n",
       "      <td>28</td>\n",
       "    </tr>\n",
       "    <tr>\n",
       "      <th>81</th>\n",
       "      <td>Shoalhaven</td>\n",
       "      <td>23408835</td>\n",
       "      <td>3214255</td>\n",
       "      <td>1387</td>\n",
       "      <td>23</td>\n",
       "    </tr>\n",
       "    <tr>\n",
       "      <th>84</th>\n",
       "      <td>Sutherland</td>\n",
       "      <td>18523923</td>\n",
       "      <td>2666112</td>\n",
       "      <td>1512</td>\n",
       "      <td>23</td>\n",
       "    </tr>\n",
       "    <tr>\n",
       "      <th>77</th>\n",
       "      <td>Randwick\\r\\nWoollahra</td>\n",
       "      <td>12315949</td>\n",
       "      <td>2001249</td>\n",
       "      <td>973</td>\n",
       "      <td>20</td>\n",
       "    </tr>\n",
       "  </tbody>\n",
       "</table>\n",
       "</div>"
      ],
      "text/plain": [
       "                      LGA    Profit       Tax  Machines  Premises Count\n",
       "21          Central Coast  48423291   7556742      3587              36\n",
       "94             Wollongong  26318771   3687584      2156              35\n",
       "52         Lake Macquarie  26199449   3592350      1858              33\n",
       "68              Newcastle  31846408   5836602      1937              29\n",
       "20   Canterbury-Bankstown  79269903  16630822      3852              29\n",
       "59              Mid-Coast  18877112   2298974      1076              28\n",
       "69       Northern Beaches  22138516   3764853      1691              28\n",
       "81             Shoalhaven  23408835   3214255      1387              23\n",
       "84             Sutherland  18523923   2666112      1512              23\n",
       "77  Randwick\\r\\nWoollahra  12315949   2001249       973              20"
      ]
     },
     "execution_count": 192,
     "metadata": {},
     "output_type": "execute_result"
    }
   ],
   "source": [
    "club_no=gaming_data.sort_values(\"Premises Count\",ascending=False).head(10)\n",
    "club_no"
   ]
  },
  {
   "cell_type": "code",
   "execution_count": 193,
   "metadata": {
    "slideshow": {
     "slide_type": "skip"
    }
   },
   "outputs": [
    {
     "data": {
      "text/plain": [
       "21            Central Coast\n",
       "94               Wollongong\n",
       "52           Lake Macquarie\n",
       "68                Newcastle\n",
       "20     Canterbury-Bankstown\n",
       "59                Mid-Coast\n",
       "69         Northern Beaches\n",
       "81               Shoalhaven\n",
       "84               Sutherland\n",
       "77    Randwick\\r\\nWoollahra\n",
       "Name: LGA, dtype: object"
      ]
     },
     "execution_count": 193,
     "metadata": {},
     "output_type": "execute_result"
    }
   ],
   "source": [
    "x_axis=club_no.iloc[:,0]\n",
    "x_axis"
   ]
  },
  {
   "cell_type": "code",
   "execution_count": 194,
   "metadata": {
    "slideshow": {
     "slide_type": "skip"
    }
   },
   "outputs": [
    {
     "data": {
      "text/plain": [
       "21    36\n",
       "94    35\n",
       "52    33\n",
       "68    29\n",
       "20    29\n",
       "59    28\n",
       "69    28\n",
       "81    23\n",
       "84    23\n",
       "77    20\n",
       "Name: Premises Count, dtype: int64"
      ]
     },
     "execution_count": 194,
     "metadata": {},
     "output_type": "execute_result"
    }
   ],
   "source": [
    "y_axis=club_no.iloc[:,4]\n",
    "y_axis"
   ]
  },
  {
   "cell_type": "markdown",
   "metadata": {
    "slideshow": {
     "slide_type": "slide"
    }
   },
   "source": [
    "Number of clubs in each LGA"
   ]
  },
  {
   "cell_type": "code",
   "execution_count": 195,
   "metadata": {
    "slideshow": {
     "slide_type": "slide"
    }
   },
   "outputs": [
    {
     "name": "stderr",
     "output_type": "stream",
     "text": [
      ") missing from current font.al\\Programs\\Python\\Python310\\lib\\site-packages\\IPython\\core\\pylabtools.py:151: UserWarning: Glyph 13 (\n",
      "  fig.canvas.print_figure(bytes_io, **kw)\n"
     ]
    },
    {
     "data": {
      "image/png": "[encoded data removed]",
      "text/plain": [
       "<Figure size 432x288 with 1 Axes>"
      ]
     },
     "metadata": {
      "needs_background": "light"
     },
     "output_type": "display_data"
    }
   ],
   "source": [
    "plt.barh(x_axis,y_axis)\n",
    "plt.xlabel('Premises Count')\n",
    "plt.ylabel('LGA')\n",
    "plt.title('Premises Count in each LGA')\n",
    "plt.show()"
   ]
  },
  {
   "cell_type": "code",
   "execution_count": null,
   "metadata": {
    "slideshow": {
     "slide_type": "skip"
    }
   },
   "outputs": [],
   "source": []
  },
  {
   "cell_type": "markdown",
   "metadata": {
    "slideshow": {
     "slide_type": "slide"
    }
   },
   "source": [
    "Frequency of the numbers of clubs in LGA specified"
   ]
  },
  {
   "cell_type": "code",
   "execution_count": 196,
   "metadata": {
    "slideshow": {
     "slide_type": "slide"
    }
   },
   "outputs": [
    {
     "data": {
      "text/plain": [
       "Text(0.5, 0, 'No. of clubs in each LGA')"
      ]
     },
     "execution_count": 196,
     "metadata": {},
     "output_type": "execute_result"
    },
    {
     "data": {
      "image/png": "[encoded data removed]",
      "text/plain": [
       "<Figure size 432x288 with 1 Axes>"
      ]
     },
     "metadata": {
      "needs_background": "light"
     },
     "output_type": "display_data"
    }
   ],
   "source": [
    "gaming_data[\"Premises Count\"].value_counts().plot(kind=\"bar\")\n",
    "plt.title(\"Premise Count frequencies\")\n",
    "plt.ylabel('Frequency')\n",
    "plt.xlabel('No. of clubs in each LGA')"
   ]
  },
  {
   "cell_type": "code",
   "execution_count": 197,
   "metadata": {
    "slideshow": {
     "slide_type": "slide"
    }
   },
   "outputs": [
    {
     "data": {
      "text/html": [
       "<div>\n",
       "<style scoped>\n",
       "    .dataframe tbody tr th:only-of-type {\n",
       "        vertical-align: middle;\n",
       "    }\n",
       "\n",
       "    .dataframe tbody tr th {\n",
       "        vertical-align: top;\n",
       "    }\n",
       "\n",
       "    .dataframe thead th {\n",
       "        text-align: right;\n",
       "    }\n",
       "</style>\n",
       "<table border=\"1\" class=\"dataframe\">\n",
       "  <thead>\n",
       "    <tr style=\"text-align: right;\">\n",
       "      <th></th>\n",
       "      <th>LGA</th>\n",
       "      <th>Profit</th>\n",
       "      <th>Tax</th>\n",
       "      <th>Machines</th>\n",
       "      <th>Premises Count</th>\n",
       "    </tr>\n",
       "  </thead>\n",
       "  <tbody>\n",
       "    <tr>\n",
       "      <th>51</th>\n",
       "      <td>Kyogle</td>\n",
       "      <td>114952</td>\n",
       "      <td>-</td>\n",
       "      <td>42</td>\n",
       "      <td>5</td>\n",
       "    </tr>\n",
       "    <tr>\n",
       "      <th>26</th>\n",
       "      <td>Coolamon\\r\\nJunee</td>\n",
       "      <td>903605</td>\n",
       "      <td>73140</td>\n",
       "      <td>80</td>\n",
       "      <td>5</td>\n",
       "    </tr>\n",
       "    <tr>\n",
       "      <th>10</th>\n",
       "      <td>Bland</td>\n",
       "      <td>803322</td>\n",
       "      <td>69525</td>\n",
       "      <td>84</td>\n",
       "      <td>6</td>\n",
       "    </tr>\n",
       "    <tr>\n",
       "      <th>12</th>\n",
       "      <td>Bogan\\r\\nBourke\\r\\nBrewarrina</td>\n",
       "      <td>1910027</td>\n",
       "      <td>103516</td>\n",
       "      <td>85</td>\n",
       "      <td>5</td>\n",
       "    </tr>\n",
       "    <tr>\n",
       "      <th>16</th>\n",
       "      <td>Cabonne</td>\n",
       "      <td>871085</td>\n",
       "      <td>-</td>\n",
       "      <td>92</td>\n",
       "      <td>11</td>\n",
       "    </tr>\n",
       "    <tr>\n",
       "      <th>27</th>\n",
       "      <td>Coonamble\\r\\nGilgandra</td>\n",
       "      <td>1890093</td>\n",
       "      <td>192519</td>\n",
       "      <td>93</td>\n",
       "      <td>5</td>\n",
       "    </tr>\n",
       "    <tr>\n",
       "      <th>42</th>\n",
       "      <td>Gwydir\\r\\nUralla\\r\\nWalcha</td>\n",
       "      <td>952863</td>\n",
       "      <td>-</td>\n",
       "      <td>95</td>\n",
       "      <td>10</td>\n",
       "    </tr>\n",
       "    <tr>\n",
       "      <th>90</th>\n",
       "      <td>Warrumbungle</td>\n",
       "      <td>664337</td>\n",
       "      <td>-</td>\n",
       "      <td>96</td>\n",
       "      <td>10</td>\n",
       "    </tr>\n",
       "    <tr>\n",
       "      <th>37</th>\n",
       "      <td>Forbes\\r\\nWeddin</td>\n",
       "      <td>1348110</td>\n",
       "      <td>136600</td>\n",
       "      <td>102</td>\n",
       "      <td>5</td>\n",
       "    </tr>\n",
       "    <tr>\n",
       "      <th>67</th>\n",
       "      <td>Narromine\\r\\nWarren</td>\n",
       "      <td>1513657</td>\n",
       "      <td>63899</td>\n",
       "      <td>120</td>\n",
       "      <td>7</td>\n",
       "    </tr>\n",
       "    <tr>\n",
       "      <th>57</th>\n",
       "      <td>Lockhart\\r\\nNarrandera</td>\n",
       "      <td>1443827</td>\n",
       "      <td>107327</td>\n",
       "      <td>122</td>\n",
       "      <td>8</td>\n",
       "    </tr>\n",
       "    <tr>\n",
       "      <th>47</th>\n",
       "      <td>Inverell</td>\n",
       "      <td>2655230</td>\n",
       "      <td>352096</td>\n",
       "      <td>124</td>\n",
       "      <td>6</td>\n",
       "    </tr>\n",
       "    <tr>\n",
       "      <th>7</th>\n",
       "      <td>Bellingen</td>\n",
       "      <td>1639666</td>\n",
       "      <td>132103</td>\n",
       "      <td>130</td>\n",
       "      <td>5</td>\n",
       "    </tr>\n",
       "    <tr>\n",
       "      <th>24</th>\n",
       "      <td>Cobar\\r\\nLachlan</td>\n",
       "      <td>2752451</td>\n",
       "      <td>332355</td>\n",
       "      <td>134</td>\n",
       "      <td>6</td>\n",
       "    </tr>\n",
       "    <tr>\n",
       "      <th>29</th>\n",
       "      <td>Cowra</td>\n",
       "      <td>2348772</td>\n",
       "      <td>302099</td>\n",
       "      <td>139</td>\n",
       "      <td>6</td>\n",
       "    </tr>\n",
       "    <tr>\n",
       "      <th>53</th>\n",
       "      <td>Leeton\\r\\nMurrumbidgee</td>\n",
       "      <td>2943478</td>\n",
       "      <td>306924</td>\n",
       "      <td>142</td>\n",
       "      <td>7</td>\n",
       "    </tr>\n",
       "    <tr>\n",
       "      <th>66</th>\n",
       "      <td>Narrabri</td>\n",
       "      <td>1927666</td>\n",
       "      <td>165057</td>\n",
       "      <td>145</td>\n",
       "      <td>7</td>\n",
       "    </tr>\n",
       "    <tr>\n",
       "      <th>82</th>\n",
       "      <td>Snowy Monaro</td>\n",
       "      <td>2890840</td>\n",
       "      <td>329181</td>\n",
       "      <td>156</td>\n",
       "      <td>7</td>\n",
       "    </tr>\n",
       "    <tr>\n",
       "      <th>89</th>\n",
       "      <td>Upper Hunter</td>\n",
       "      <td>2513656</td>\n",
       "      <td>203519</td>\n",
       "      <td>159</td>\n",
       "      <td>9</td>\n",
       "    </tr>\n",
       "    <tr>\n",
       "      <th>93</th>\n",
       "      <td>Wollondilly</td>\n",
       "      <td>841053</td>\n",
       "      <td>24090</td>\n",
       "      <td>167</td>\n",
       "      <td>5</td>\n",
       "    </tr>\n",
       "    <tr>\n",
       "      <th>60</th>\n",
       "      <td>Mid-Western Regional</td>\n",
       "      <td>3167965</td>\n",
       "      <td>364775</td>\n",
       "      <td>168</td>\n",
       "      <td>7</td>\n",
       "    </tr>\n",
       "    <tr>\n",
       "      <th>64</th>\n",
       "      <td>Muswellbrook</td>\n",
       "      <td>3831844</td>\n",
       "      <td>540037</td>\n",
       "      <td>170</td>\n",
       "      <td>5</td>\n",
       "    </tr>\n",
       "    <tr>\n",
       "      <th>28</th>\n",
       "      <td>Cootamundra-Gundagai\\r\\nTemora</td>\n",
       "      <td>2707092</td>\n",
       "      <td>264225</td>\n",
       "      <td>177</td>\n",
       "      <td>7</td>\n",
       "    </tr>\n",
       "    <tr>\n",
       "      <th>33</th>\n",
       "      <td>Edward River\\r\\nHay</td>\n",
       "      <td>2509625</td>\n",
       "      <td>281827</td>\n",
       "      <td>178</td>\n",
       "      <td>5</td>\n",
       "    </tr>\n",
       "    <tr>\n",
       "      <th>71</th>\n",
       "      <td>Parkes</td>\n",
       "      <td>2888847</td>\n",
       "      <td>314915</td>\n",
       "      <td>184</td>\n",
       "      <td>9</td>\n",
       "    </tr>\n",
       "    <tr>\n",
       "      <th>41</th>\n",
       "      <td>Gunnedah\\r\\nLiverpool Plains</td>\n",
       "      <td>3677330</td>\n",
       "      <td>395365</td>\n",
       "      <td>188</td>\n",
       "      <td>7</td>\n",
       "    </tr>\n",
       "    <tr>\n",
       "      <th>3</th>\n",
       "      <td>Balranald\\r\\nCarrathool\\r\\nCentral Darling</td>\n",
       "      <td>4840075</td>\n",
       "      <td>744971</td>\n",
       "      <td>202</td>\n",
       "      <td>6</td>\n",
       "    </tr>\n",
       "    <tr>\n",
       "      <th>49</th>\n",
       "      <td>Kiama</td>\n",
       "      <td>2789330</td>\n",
       "      <td>231294</td>\n",
       "      <td>205</td>\n",
       "      <td>6</td>\n",
       "    </tr>\n",
       "    <tr>\n",
       "      <th>55</th>\n",
       "      <td>Lithgow</td>\n",
       "      <td>3329926</td>\n",
       "      <td>404762</td>\n",
       "      <td>236</td>\n",
       "      <td>6</td>\n",
       "    </tr>\n",
       "    <tr>\n",
       "      <th>15</th>\n",
       "      <td>Byron</td>\n",
       "      <td>2692487</td>\n",
       "      <td>252966</td>\n",
       "      <td>237</td>\n",
       "      <td>9</td>\n",
       "    </tr>\n",
       "  </tbody>\n",
       "</table>\n",
       "</div>"
      ],
      "text/plain": [
       "                                           LGA   Profit     Tax  Machines  \\\n",
       "51                                      Kyogle   114952    -           42   \n",
       "26                           Coolamon\\r\\nJunee   903605   73140        80   \n",
       "10                                       Bland   803322   69525        84   \n",
       "12               Bogan\\r\\nBourke\\r\\nBrewarrina  1910027  103516        85   \n",
       "16                                     Cabonne   871085    -           92   \n",
       "27                      Coonamble\\r\\nGilgandra  1890093  192519        93   \n",
       "42                  Gwydir\\r\\nUralla\\r\\nWalcha   952863    -           95   \n",
       "90                                Warrumbungle   664337    -           96   \n",
       "37                            Forbes\\r\\nWeddin  1348110  136600       102   \n",
       "67                         Narromine\\r\\nWarren  1513657   63899       120   \n",
       "57                      Lockhart\\r\\nNarrandera  1443827  107327       122   \n",
       "47                                    Inverell  2655230  352096       124   \n",
       "7                                    Bellingen  1639666  132103       130   \n",
       "24                            Cobar\\r\\nLachlan  2752451  332355       134   \n",
       "29                                       Cowra  2348772  302099       139   \n",
       "53                      Leeton\\r\\nMurrumbidgee  2943478  306924       142   \n",
       "66                                    Narrabri  1927666  165057       145   \n",
       "82                                Snowy Monaro  2890840  329181       156   \n",
       "89                                Upper Hunter  2513656  203519       159   \n",
       "93                                 Wollondilly   841053   24090       167   \n",
       "60                        Mid-Western Regional  3167965  364775       168   \n",
       "64                                Muswellbrook  3831844  540037       170   \n",
       "28              Cootamundra-Gundagai\\r\\nTemora  2707092  264225       177   \n",
       "33                         Edward River\\r\\nHay  2509625  281827       178   \n",
       "71                                      Parkes  2888847  314915       184   \n",
       "41                Gunnedah\\r\\nLiverpool Plains  3677330  395365       188   \n",
       "3   Balranald\\r\\nCarrathool\\r\\nCentral Darling  4840075  744971       202   \n",
       "49                                       Kiama  2789330  231294       205   \n",
       "55                                     Lithgow  3329926  404762       236   \n",
       "15                                       Byron  2692487  252966       237   \n",
       "\n",
       "    Premises Count  \n",
       "51               5  \n",
       "26               5  \n",
       "10               6  \n",
       "12               5  \n",
       "16              11  \n",
       "27               5  \n",
       "42              10  \n",
       "90              10  \n",
       "37               5  \n",
       "67               7  \n",
       "57               8  \n",
       "47               6  \n",
       "7                5  \n",
       "24               6  \n",
       "29               6  \n",
       "53               7  \n",
       "66               7  \n",
       "82               7  \n",
       "89               9  \n",
       "93               5  \n",
       "60               7  \n",
       "64               5  \n",
       "28               7  \n",
       "33               5  \n",
       "71               9  \n",
       "41               7  \n",
       "3                6  \n",
       "49               6  \n",
       "55               6  \n",
       "15               9  "
      ]
     },
     "execution_count": 197,
     "metadata": {},
     "output_type": "execute_result"
    }
   ],
   "source": [
    "gaming_data.sort_values([\"Machines\",\"Profit\"]).head(30)"
   ]
  },
  {
   "cell_type": "code",
   "execution_count": 198,
   "metadata": {
    "slideshow": {
     "slide_type": "slide"
    }
   },
   "outputs": [
    {
     "data": {
      "text/html": [
       "<div>\n",
       "<style scoped>\n",
       "    .dataframe tbody tr th:only-of-type {\n",
       "        vertical-align: middle;\n",
       "    }\n",
       "\n",
       "    .dataframe tbody tr th {\n",
       "        vertical-align: top;\n",
       "    }\n",
       "\n",
       "    .dataframe thead th {\n",
       "        text-align: right;\n",
       "    }\n",
       "</style>\n",
       "<table border=\"1\" class=\"dataframe\">\n",
       "  <thead>\n",
       "    <tr style=\"text-align: right;\">\n",
       "      <th></th>\n",
       "      <th>LGA</th>\n",
       "      <th>Profit</th>\n",
       "      <th>Tax</th>\n",
       "      <th>Machines</th>\n",
       "      <th>Premises Count</th>\n",
       "    </tr>\n",
       "  </thead>\n",
       "  <tbody>\n",
       "    <tr>\n",
       "      <th>20</th>\n",
       "      <td>Canterbury-Bankstown</td>\n",
       "      <td>79269903</td>\n",
       "      <td>16630822</td>\n",
       "      <td>3852</td>\n",
       "      <td>29</td>\n",
       "    </tr>\n",
       "    <tr>\n",
       "      <th>21</th>\n",
       "      <td>Central Coast</td>\n",
       "      <td>48423291</td>\n",
       "      <td>7556742</td>\n",
       "      <td>3587</td>\n",
       "      <td>36</td>\n",
       "    </tr>\n",
       "    <tr>\n",
       "      <th>35</th>\n",
       "      <td>Fairfield</td>\n",
       "      <td>88672639</td>\n",
       "      <td>19383104</td>\n",
       "      <td>3350</td>\n",
       "      <td>18</td>\n",
       "    </tr>\n",
       "    <tr>\n",
       "      <th>94</th>\n",
       "      <td>Wollongong</td>\n",
       "      <td>26318771</td>\n",
       "      <td>3687584</td>\n",
       "      <td>2156</td>\n",
       "      <td>35</td>\n",
       "    </tr>\n",
       "    <tr>\n",
       "      <th>30</th>\n",
       "      <td>Cumberland</td>\n",
       "      <td>49016515</td>\n",
       "      <td>10368576</td>\n",
       "      <td>2134</td>\n",
       "      <td>14</td>\n",
       "    </tr>\n",
       "    <tr>\n",
       "      <th>73</th>\n",
       "      <td>Penrith</td>\n",
       "      <td>28241433</td>\n",
       "      <td>5189827</td>\n",
       "      <td>2082</td>\n",
       "      <td>15</td>\n",
       "    </tr>\n",
       "    <tr>\n",
       "      <th>9</th>\n",
       "      <td>Blacktown</td>\n",
       "      <td>37381922</td>\n",
       "      <td>7812098</td>\n",
       "      <td>2079</td>\n",
       "      <td>11</td>\n",
       "    </tr>\n",
       "    <tr>\n",
       "      <th>68</th>\n",
       "      <td>Newcastle</td>\n",
       "      <td>31846408</td>\n",
       "      <td>5836602</td>\n",
       "      <td>1937</td>\n",
       "      <td>29</td>\n",
       "    </tr>\n",
       "    <tr>\n",
       "      <th>52</th>\n",
       "      <td>Lake Macquarie</td>\n",
       "      <td>26199449</td>\n",
       "      <td>3592350</td>\n",
       "      <td>1858</td>\n",
       "      <td>33</td>\n",
       "    </tr>\n",
       "    <tr>\n",
       "      <th>69</th>\n",
       "      <td>Northern Beaches</td>\n",
       "      <td>22138516</td>\n",
       "      <td>3764853</td>\n",
       "      <td>1691</td>\n",
       "      <td>28</td>\n",
       "    </tr>\n",
       "    <tr>\n",
       "      <th>88</th>\n",
       "      <td>Tweed</td>\n",
       "      <td>27491295</td>\n",
       "      <td>4741457</td>\n",
       "      <td>1650</td>\n",
       "      <td>15</td>\n",
       "    </tr>\n",
       "    <tr>\n",
       "      <th>38</th>\n",
       "      <td>Georges River</td>\n",
       "      <td>24838811</td>\n",
       "      <td>4260321</td>\n",
       "      <td>1598</td>\n",
       "      <td>15</td>\n",
       "    </tr>\n",
       "    <tr>\n",
       "      <th>18</th>\n",
       "      <td>Campbelltown</td>\n",
       "      <td>26753479</td>\n",
       "      <td>5541031</td>\n",
       "      <td>1572</td>\n",
       "      <td>10</td>\n",
       "    </tr>\n",
       "    <tr>\n",
       "      <th>84</th>\n",
       "      <td>Sutherland</td>\n",
       "      <td>18523923</td>\n",
       "      <td>2666112</td>\n",
       "      <td>1512</td>\n",
       "      <td>23</td>\n",
       "    </tr>\n",
       "    <tr>\n",
       "      <th>81</th>\n",
       "      <td>Shoalhaven</td>\n",
       "      <td>23408835</td>\n",
       "      <td>3214255</td>\n",
       "      <td>1387</td>\n",
       "      <td>23</td>\n",
       "    </tr>\n",
       "    <tr>\n",
       "      <th>72</th>\n",
       "      <td>Parramatta</td>\n",
       "      <td>20839563</td>\n",
       "      <td>3881430</td>\n",
       "      <td>1224</td>\n",
       "      <td>11</td>\n",
       "    </tr>\n",
       "    <tr>\n",
       "      <th>59</th>\n",
       "      <td>Mid-Coast</td>\n",
       "      <td>18877112</td>\n",
       "      <td>2298974</td>\n",
       "      <td>1076</td>\n",
       "      <td>28</td>\n",
       "    </tr>\n",
       "    <tr>\n",
       "      <th>56</th>\n",
       "      <td>Liverpool</td>\n",
       "      <td>19958862</td>\n",
       "      <td>3854162</td>\n",
       "      <td>1067</td>\n",
       "      <td>8</td>\n",
       "    </tr>\n",
       "    <tr>\n",
       "      <th>5</th>\n",
       "      <td>Bayside</td>\n",
       "      <td>13782049</td>\n",
       "      <td>2055160</td>\n",
       "      <td>1058</td>\n",
       "      <td>18</td>\n",
       "    </tr>\n",
       "    <tr>\n",
       "      <th>77</th>\n",
       "      <td>Randwick\\r\\nWoollahra</td>\n",
       "      <td>12315949</td>\n",
       "      <td>2001249</td>\n",
       "      <td>973</td>\n",
       "      <td>20</td>\n",
       "    </tr>\n",
       "    <tr>\n",
       "      <th>74</th>\n",
       "      <td>Port Macquarie-Hastings</td>\n",
       "      <td>20954608</td>\n",
       "      <td>3568648</td>\n",
       "      <td>956</td>\n",
       "      <td>14</td>\n",
       "    </tr>\n",
       "    <tr>\n",
       "      <th>63</th>\n",
       "      <td>Murray River</td>\n",
       "      <td>21061874</td>\n",
       "      <td>3892032</td>\n",
       "      <td>925</td>\n",
       "      <td>10</td>\n",
       "    </tr>\n",
       "    <tr>\n",
       "      <th>79</th>\n",
       "      <td>Ryde</td>\n",
       "      <td>11168223</td>\n",
       "      <td>1855849</td>\n",
       "      <td>922</td>\n",
       "      <td>11</td>\n",
       "    </tr>\n",
       "    <tr>\n",
       "      <th>46</th>\n",
       "      <td>Inner West</td>\n",
       "      <td>12338336</td>\n",
       "      <td>2217345</td>\n",
       "      <td>900</td>\n",
       "      <td>15</td>\n",
       "    </tr>\n",
       "    <tr>\n",
       "      <th>45</th>\n",
       "      <td>Hornsby</td>\n",
       "      <td>9271377</td>\n",
       "      <td>1482674</td>\n",
       "      <td>857</td>\n",
       "      <td>10</td>\n",
       "    </tr>\n",
       "    <tr>\n",
       "      <th>0</th>\n",
       "      <td>Albury\\r\\nGreater Hume</td>\n",
       "      <td>24405524</td>\n",
       "      <td>5266934</td>\n",
       "      <td>850</td>\n",
       "      <td>8</td>\n",
       "    </tr>\n",
       "    <tr>\n",
       "      <th>75</th>\n",
       "      <td>Port Stephens</td>\n",
       "      <td>10690360</td>\n",
       "      <td>1424612</td>\n",
       "      <td>743</td>\n",
       "      <td>13</td>\n",
       "    </tr>\n",
       "    <tr>\n",
       "      <th>36</th>\n",
       "      <td>Federation</td>\n",
       "      <td>14876016</td>\n",
       "      <td>2568527</td>\n",
       "      <td>720</td>\n",
       "      <td>9</td>\n",
       "    </tr>\n",
       "    <tr>\n",
       "      <th>34</th>\n",
       "      <td>Eurobodalla</td>\n",
       "      <td>11668956</td>\n",
       "      <td>1591912</td>\n",
       "      <td>713</td>\n",
       "      <td>10</td>\n",
       "    </tr>\n",
       "    <tr>\n",
       "      <th>80</th>\n",
       "      <td>Shellharbour</td>\n",
       "      <td>10509202</td>\n",
       "      <td>1720896</td>\n",
       "      <td>712</td>\n",
       "      <td>6</td>\n",
       "    </tr>\n",
       "  </tbody>\n",
       "</table>\n",
       "</div>"
      ],
      "text/plain": [
       "                        LGA    Profit       Tax  Machines  Premises Count\n",
       "20     Canterbury-Bankstown  79269903  16630822      3852              29\n",
       "21            Central Coast  48423291   7556742      3587              36\n",
       "35                Fairfield  88672639  19383104      3350              18\n",
       "94               Wollongong  26318771   3687584      2156              35\n",
       "30               Cumberland  49016515  10368576      2134              14\n",
       "73                  Penrith  28241433   5189827      2082              15\n",
       "9                 Blacktown  37381922   7812098      2079              11\n",
       "68                Newcastle  31846408   5836602      1937              29\n",
       "52           Lake Macquarie  26199449   3592350      1858              33\n",
       "69         Northern Beaches  22138516   3764853      1691              28\n",
       "88                    Tweed  27491295   4741457      1650              15\n",
       "38            Georges River  24838811   4260321      1598              15\n",
       "18             Campbelltown  26753479   5541031      1572              10\n",
       "84               Sutherland  18523923   2666112      1512              23\n",
       "81               Shoalhaven  23408835   3214255      1387              23\n",
       "72               Parramatta  20839563   3881430      1224              11\n",
       "59                Mid-Coast  18877112   2298974      1076              28\n",
       "56                Liverpool  19958862   3854162      1067               8\n",
       "5                   Bayside  13782049   2055160      1058              18\n",
       "77    Randwick\\r\\nWoollahra  12315949   2001249       973              20\n",
       "74  Port Macquarie-Hastings  20954608   3568648       956              14\n",
       "63             Murray River  21061874   3892032       925              10\n",
       "79                     Ryde  11168223   1855849       922              11\n",
       "46               Inner West  12338336   2217345       900              15\n",
       "45                  Hornsby   9271377   1482674       857              10\n",
       "0    Albury\\r\\nGreater Hume  24405524   5266934       850               8\n",
       "75            Port Stephens  10690360   1424612       743              13\n",
       "36               Federation  14876016   2568527       720               9\n",
       "34              Eurobodalla  11668956   1591912       713              10\n",
       "80             Shellharbour  10509202   1720896       712               6"
      ]
     },
     "execution_count": 198,
     "metadata": {},
     "output_type": "execute_result"
    }
   ],
   "source": [
    "gaming_data.sort_values([\"Machines\",\"Profit\"],ascending=False).head(30)"
   ]
  },
  {
   "cell_type": "markdown",
   "metadata": {
    "slideshow": {
     "slide_type": "slide"
    }
   },
   "source": [
    "Machines vs Profit Graph"
   ]
  },
  {
   "cell_type": "code",
   "execution_count": 199,
   "metadata": {
    "slideshow": {
     "slide_type": "slide"
    }
   },
   "outputs": [
    {
     "data": {
      "text/plain": [
       "Text(0.5, 1.0, 'Machines vs Profit')"
      ]
     },
     "execution_count": 199,
     "metadata": {},
     "output_type": "execute_result"
    },
    {
     "data": {
      "image/png": "[encoded data removed]",
      "text/plain": [
       "<Figure size 432x288 with 1 Axes>"
      ]
     },
     "metadata": {
      "needs_background": "light"
     },
     "output_type": "display_data"
    }
   ],
   "source": [
    "gaming_data.plot(kind='scatter', x= 'Machines', y= 'Profit')\n",
    "plt.title('Machines vs Profit')\n"
   ]
  },
  {
   "cell_type": "markdown",
   "metadata": {
    "slideshow": {
     "slide_type": "slide"
    }
   },
   "source": [
    "Premises Count vs Machines Graph"
   ]
  },
  {
   "cell_type": "code",
   "execution_count": 200,
   "metadata": {
    "slideshow": {
     "slide_type": "slide"
    }
   },
   "outputs": [
    {
     "data": {
      "text/plain": [
       "Text(0.5, 1.0, 'Premises Count vs Machines')"
      ]
     },
     "execution_count": 200,
     "metadata": {},
     "output_type": "execute_result"
    },
    {
     "data": {
      "image/png": "[encoded data removed]",
      "text/plain": [
       "<Figure size 432x288 with 1 Axes>"
      ]
     },
     "metadata": {
      "needs_background": "light"
     },
     "output_type": "display_data"
    }
   ],
   "source": [
    "gaming_data.plot(kind='scatter', x='Premises Count', y='Machines')\n",
    "plt.title('Premises Count vs Machines')"
   ]
  }
 ],
 "metadata": {
  "celltoolbar": "Slideshow",
  "kernelspec": {
   "display_name": "Python 3 (ipykernel)",
   "language": "python",
   "name": "python3"
  },
  "language_info": {
   "codemirror_mode": {
    "name": "ipython",
    "version": 3
   },
   "file_extension": ".py",
   "mimetype": "text/x-python",
   "name": "python",
   "nbconvert_exporter": "python",
   "pygments_lexer": "ipython3",
   "version": "3.10.5"
  },
  "vscode": {
   "interpreter": {
    "hash": "23f823caeccb1684f6bd50492b68bb5eab208de0408f39b2457c6a38c0e8e818"
   }
  }
 },
 "nbformat": 4,
 "nbformat_minor": 2
}
