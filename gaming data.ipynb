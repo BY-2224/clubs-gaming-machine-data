{
 "cells": [
  {
   "cell_type": "markdown",
   "metadata": {},
   "source": [
    "Panda gaming data"
   ]
  },
  {
   "cell_type": "code",
   "execution_count": 8,
   "metadata": {},
   "outputs": [],
   "source": [
    "import matplotlib\n",
    "import matplotlib.pyplot as plt\n",
    "import numpy as np\n",
    "import pandas as pd\n",
    "import os\n",
    "from datetime import datetime"
   ]
  },
  {
   "cell_type": "markdown",
   "metadata": {},
   "source": [
    "data setup:"
   ]
  },
  {
   "cell_type": "code",
   "execution_count": 9,
   "metadata": {},
   "outputs": [],
   "source": [
    "%matplotlib inline"
   ]
  },
  {
   "cell_type": "code",
   "execution_count": 10,
   "metadata": {},
   "outputs": [],
   "source": [
    "saved_style_state = matplotlib.rcParams.copy() #give us a style state to go back to"
   ]
  },
  {
   "cell_type": "markdown",
   "metadata": {},
   "source": [
    "CSV file of the gaming data"
   ]
  },
  {
   "cell_type": "code",
   "execution_count": 11,
   "metadata": {},
   "outputs": [
    {
     "name": "stdout",
     "output_type": "stream",
     "text": [
      "done\n"
     ]
    }
   ],
   "source": [
    "gaming_data = pd.read_csv(\"clubs-gaming-machine-report-by-lga.csv\")\n",
    "print(\"done\")"
   ]
  },
  {
   "cell_type": "code",
   "execution_count": 12,
   "metadata": {},
   "outputs": [
    {
     "data": {
      "text/html": [
       "<div>\n",
       "<style scoped>\n",
       "    .dataframe tbody tr th:only-of-type {\n",
       "        vertical-align: middle;\n",
       "    }\n",
       "\n",
       "    .dataframe tbody tr th {\n",
       "        vertical-align: top;\n",
       "    }\n",
       "\n",
       "    .dataframe thead th {\n",
       "        text-align: right;\n",
       "    }\n",
       "</style>\n",
       "<table border=\"1\" class=\"dataframe\">\n",
       "  <thead>\n",
       "    <tr style=\"text-align: right;\">\n",
       "      <th></th>\n",
       "      <th>LGA</th>\n",
       "      <th>Profit</th>\n",
       "      <th>Tax</th>\n",
       "      <th>Machines</th>\n",
       "      <th>Premises Count</th>\n",
       "    </tr>\n",
       "  </thead>\n",
       "  <tbody>\n",
       "    <tr>\n",
       "      <th>0</th>\n",
       "      <td>Albury\\r\\nGreater Hume</td>\n",
       "      <td>24,405,524</td>\n",
       "      <td>5,266,934</td>\n",
       "      <td>850</td>\n",
       "      <td>8</td>\n",
       "    </tr>\n",
       "    <tr>\n",
       "      <th>1</th>\n",
       "      <td>Armidale\\r\\nGlen Innes Severn</td>\n",
       "      <td>5,778,231</td>\n",
       "      <td>788,695</td>\n",
       "      <td>267</td>\n",
       "      <td>7</td>\n",
       "    </tr>\n",
       "    <tr>\n",
       "      <th>2</th>\n",
       "      <td>Ballina</td>\n",
       "      <td>8,496,734</td>\n",
       "      <td>1,451,539</td>\n",
       "      <td>383</td>\n",
       "      <td>7</td>\n",
       "    </tr>\n",
       "    <tr>\n",
       "      <th>3</th>\n",
       "      <td>Balranald\\r\\nCarrathool\\r\\nCentral Darling</td>\n",
       "      <td>4,840,075</td>\n",
       "      <td>744,971</td>\n",
       "      <td>202</td>\n",
       "      <td>6</td>\n",
       "    </tr>\n",
       "    <tr>\n",
       "      <th>4</th>\n",
       "      <td>Bathurst\\r\\nBlayney</td>\n",
       "      <td>5,356,026</td>\n",
       "      <td>894,190</td>\n",
       "      <td>275</td>\n",
       "      <td>7</td>\n",
       "    </tr>\n",
       "  </tbody>\n",
       "</table>\n",
       "</div>"
      ],
      "text/plain": [
       "                                          LGA      Profit        Tax Machines  \\\n",
       "0                      Albury\\r\\nGreater Hume  24,405,524  5,266,934      850   \n",
       "1               Armidale\\r\\nGlen Innes Severn   5,778,231    788,695      267   \n",
       "2                                     Ballina   8,496,734  1,451,539      383   \n",
       "3  Balranald\\r\\nCarrathool\\r\\nCentral Darling   4,840,075    744,971      202   \n",
       "4                         Bathurst\\r\\nBlayney   5,356,026    894,190      275   \n",
       "\n",
       "   Premises Count  \n",
       "0               8  \n",
       "1               7  \n",
       "2               7  \n",
       "3               6  \n",
       "4               7  "
      ]
     },
     "execution_count": 12,
     "metadata": {},
     "output_type": "execute_result"
    }
   ],
   "source": [
    "gaming_data.head()"
   ]
  },
  {
   "cell_type": "markdown",
   "metadata": {},
   "source": [
    "Columns of the gaming data"
   ]
  },
  {
   "cell_type": "code",
   "execution_count": 13,
   "metadata": {},
   "outputs": [
    {
     "data": {
      "text/plain": [
       "Index(['LGA', 'Profit', 'Tax', 'Machines', 'Premises Count'], dtype='object')"
      ]
     },
     "execution_count": 13,
     "metadata": {},
     "output_type": "execute_result"
    }
   ],
   "source": [
    "gaming_data.columns"
   ]
  },
  {
   "cell_type": "markdown",
   "metadata": {},
   "source": [
    "row of the gaming data"
   ]
  },
  {
   "cell_type": "code",
   "execution_count": 14,
   "metadata": {},
   "outputs": [
    {
     "data": {
      "text/plain": [
       "LGA               Armidale\\r\\nGlen Innes Severn\n",
       "Profit                                5,778,231\n",
       "Tax                                     788,695\n",
       "Machines                                    267\n",
       "Premises Count                                7\n",
       "Name: 1, dtype: object"
      ]
     },
     "execution_count": 14,
     "metadata": {},
     "output_type": "execute_result"
    }
   ],
   "source": [
    "row_one = gaming_data.iloc[1]\n",
    "row_one"
   ]
  },
  {
   "cell_type": "code",
   "execution_count": 15,
   "metadata": {},
   "outputs": [
    {
     "data": {
      "text/plain": [
       "'788,695'"
      ]
     },
     "execution_count": 15,
     "metadata": {},
     "output_type": "execute_result"
    }
   ],
   "source": [
    "row_one[\"Tax\"]\n"
   ]
  },
  {
   "cell_type": "code",
   "execution_count": 16,
   "metadata": {},
   "outputs": [
    {
     "data": {
      "text/plain": [
       "LGA                Blacktown\n",
       "Profit            37,381,922\n",
       "Tax                7,812,098\n",
       "Machines               2,079\n",
       "Premises Count            11\n",
       "Name: 9, dtype: object"
      ]
     },
     "execution_count": 16,
     "metadata": {},
     "output_type": "execute_result"
    }
   ],
   "source": [
    "row_two = gaming_data.iloc[9]\n",
    "row_two"
   ]
  },
  {
   "cell_type": "code",
   "execution_count": 17,
   "metadata": {},
   "outputs": [
    {
     "data": {
      "text/plain": [
       "'7,812,098'"
      ]
     },
     "execution_count": 17,
     "metadata": {},
     "output_type": "execute_result"
    }
   ],
   "source": [
    "row_two[\"Tax\"]"
   ]
  },
  {
   "cell_type": "code",
   "execution_count": 18,
   "metadata": {},
   "outputs": [
    {
     "data": {
      "text/html": [
       "<div>\n",
       "<style scoped>\n",
       "    .dataframe tbody tr th:only-of-type {\n",
       "        vertical-align: middle;\n",
       "    }\n",
       "\n",
       "    .dataframe tbody tr th {\n",
       "        vertical-align: top;\n",
       "    }\n",
       "\n",
       "    .dataframe thead th {\n",
       "        text-align: right;\n",
       "    }\n",
       "</style>\n",
       "<table border=\"1\" class=\"dataframe\">\n",
       "  <thead>\n",
       "    <tr style=\"text-align: right;\">\n",
       "      <th></th>\n",
       "      <th>LGA</th>\n",
       "      <th>Profit</th>\n",
       "      <th>Tax</th>\n",
       "      <th>Machines</th>\n",
       "      <th>Premises Count</th>\n",
       "    </tr>\n",
       "  </thead>\n",
       "  <tbody>\n",
       "    <tr>\n",
       "      <th>0</th>\n",
       "      <td>Albury\\r\\nGreater Hume</td>\n",
       "      <td>24,405,524</td>\n",
       "      <td>5,266,934</td>\n",
       "      <td>850</td>\n",
       "      <td>8</td>\n",
       "    </tr>\n",
       "    <tr>\n",
       "      <th>1</th>\n",
       "      <td>Armidale\\r\\nGlen Innes Severn</td>\n",
       "      <td>5,778,231</td>\n",
       "      <td>788,695</td>\n",
       "      <td>267</td>\n",
       "      <td>7</td>\n",
       "    </tr>\n",
       "    <tr>\n",
       "      <th>2</th>\n",
       "      <td>Ballina</td>\n",
       "      <td>8,496,734</td>\n",
       "      <td>1,451,539</td>\n",
       "      <td>383</td>\n",
       "      <td>7</td>\n",
       "    </tr>\n",
       "  </tbody>\n",
       "</table>\n",
       "</div>"
      ],
      "text/plain": [
       "                             LGA      Profit        Tax Machines  \\\n",
       "0         Albury\\r\\nGreater Hume  24,405,524  5,266,934      850   \n",
       "1  Armidale\\r\\nGlen Innes Severn   5,778,231    788,695      267   \n",
       "2                        Ballina   8,496,734  1,451,539      383   \n",
       "\n",
       "   Premises Count  \n",
       "0               8  \n",
       "1               7  \n",
       "2               7  "
      ]
     },
     "execution_count": 18,
     "metadata": {},
     "output_type": "execute_result"
    }
   ],
   "source": [
    "gaming_data.head(3)"
   ]
  },
  {
   "cell_type": "code",
   "execution_count": 19,
   "metadata": {},
   "outputs": [
    {
     "data": {
      "text/html": [
       "<div>\n",
       "<style scoped>\n",
       "    .dataframe tbody tr th:only-of-type {\n",
       "        vertical-align: middle;\n",
       "    }\n",
       "\n",
       "    .dataframe tbody tr th {\n",
       "        vertical-align: top;\n",
       "    }\n",
       "\n",
       "    .dataframe thead th {\n",
       "        text-align: right;\n",
       "    }\n",
       "</style>\n",
       "<table border=\"1\" class=\"dataframe\">\n",
       "  <thead>\n",
       "    <tr style=\"text-align: right;\">\n",
       "      <th></th>\n",
       "      <th>Premises Count</th>\n",
       "    </tr>\n",
       "  </thead>\n",
       "  <tbody>\n",
       "    <tr>\n",
       "      <th>count</th>\n",
       "      <td>95.000000</td>\n",
       "    </tr>\n",
       "    <tr>\n",
       "      <th>mean</th>\n",
       "      <td>10.863158</td>\n",
       "    </tr>\n",
       "    <tr>\n",
       "      <th>std</th>\n",
       "      <td>6.967417</td>\n",
       "    </tr>\n",
       "    <tr>\n",
       "      <th>min</th>\n",
       "      <td>5.000000</td>\n",
       "    </tr>\n",
       "    <tr>\n",
       "      <th>25%</th>\n",
       "      <td>7.000000</td>\n",
       "    </tr>\n",
       "    <tr>\n",
       "      <th>50%</th>\n",
       "      <td>9.000000</td>\n",
       "    </tr>\n",
       "    <tr>\n",
       "      <th>75%</th>\n",
       "      <td>12.000000</td>\n",
       "    </tr>\n",
       "    <tr>\n",
       "      <th>max</th>\n",
       "      <td>36.000000</td>\n",
       "    </tr>\n",
       "  </tbody>\n",
       "</table>\n",
       "</div>"
      ],
      "text/plain": [
       "       Premises Count\n",
       "count       95.000000\n",
       "mean        10.863158\n",
       "std          6.967417\n",
       "min          5.000000\n",
       "25%          7.000000\n",
       "50%          9.000000\n",
       "75%         12.000000\n",
       "max         36.000000"
      ]
     },
     "execution_count": 19,
     "metadata": {},
     "output_type": "execute_result"
    }
   ],
   "source": [
    "gaming_data.describe()"
   ]
  },
  {
   "cell_type": "code",
   "execution_count": 20,
   "metadata": {},
   "outputs": [
    {
     "name": "stdout",
     "output_type": "stream",
     "text": [
      "0                         Albury\\r\\nGreater Hume\n",
      "1                  Armidale\\r\\nGlen Innes Severn\n",
      "2                                        Ballina\n",
      "3     Balranald\\r\\nCarrathool\\r\\nCentral Darling\n",
      "4                            Bathurst\\r\\nBlayney\n",
      "                         ...                    \n",
      "90                                  Warrumbungle\n",
      "91                                      Waverley\n",
      "92                                 Wingecarribee\n",
      "93                                   Wollondilly\n",
      "94                                    Wollongong\n",
      "Name: LGA, Length: 95, dtype: object\n"
     ]
    }
   ],
   "source": [
    "print(gaming_data.LGA)"
   ]
  },
  {
   "cell_type": "code",
   "execution_count": 21,
   "metadata": {},
   "outputs": [
    {
     "data": {
      "text/plain": [
       "<AxesSubplot:>"
      ]
     },
     "execution_count": 21,
     "metadata": {},
     "output_type": "execute_result"
    },
    {
     "data": {
      "image/png": "[encoded data removed]",
      "text/plain": [
       "<Figure size 432x288 with 1 Axes>"
      ]
     },
     "metadata": {
      "needs_background": "light"
     },
     "output_type": "display_data"
    }
   ],
   "source": [
    "gaming_data[\"Premises Count\"].hist()"
   ]
  },
  {
   "cell_type": "code",
   "execution_count": 22,
   "metadata": {},
   "outputs": [
    {
     "data": {
      "text/plain": [
       "0       850\n",
       "1       267\n",
       "2       383\n",
       "3       202\n",
       "4       275\n",
       "      ...  \n",
       "90       96\n",
       "91      369\n",
       "92      313\n",
       "93      167\n",
       "94    2,156\n",
       "Name: Machines, Length: 95, dtype: object"
      ]
     },
     "execution_count": 22,
     "metadata": {},
     "output_type": "execute_result"
    }
   ],
   "source": [
    "gaming_data['Machines']"
   ]
  },
  {
   "cell_type": "code",
   "execution_count": 23,
   "metadata": {},
   "outputs": [
    {
     "data": {
      "text/plain": [
       "279      2\n",
       "237      2\n",
       "850      1\n",
       "1,224    1\n",
       "300      1\n",
       "        ..\n",
       "139      1\n",
       "177      1\n",
       "93       1\n",
       "80       1\n",
       "2,156    1\n",
       "Name: Machines, Length: 93, dtype: int64"
      ]
     },
     "execution_count": 23,
     "metadata": {},
     "output_type": "execute_result"
    }
   ],
   "source": [
    "gaming_data['Machines'].value_counts()"
   ]
  },
  {
   "cell_type": "code",
   "execution_count": 24,
   "metadata": {},
   "outputs": [
    {
     "data": {
      "text/plain": [
       "0      8\n",
       "1      7\n",
       "2      7\n",
       "3      6\n",
       "4      7\n",
       "      ..\n",
       "90    10\n",
       "91     6\n",
       "92     7\n",
       "93     5\n",
       "94    35\n",
       "Name: Premises Count, Length: 95, dtype: int64"
      ]
     },
     "execution_count": 24,
     "metadata": {},
     "output_type": "execute_result"
    }
   ],
   "source": [
    "gaming_data[\"Premises Count\"]"
   ]
  },
  {
   "cell_type": "code",
   "execution_count": 25,
   "metadata": {},
   "outputs": [
    {
     "data": {
      "text/html": [
       "<div>\n",
       "<style scoped>\n",
       "    .dataframe tbody tr th:only-of-type {\n",
       "        vertical-align: middle;\n",
       "    }\n",
       "\n",
       "    .dataframe tbody tr th {\n",
       "        vertical-align: top;\n",
       "    }\n",
       "\n",
       "    .dataframe thead th {\n",
       "        text-align: right;\n",
       "    }\n",
       "</style>\n",
       "<table border=\"1\" class=\"dataframe\">\n",
       "  <thead>\n",
       "    <tr style=\"text-align: right;\">\n",
       "      <th></th>\n",
       "      <th>LGA</th>\n",
       "      <th>Profit</th>\n",
       "      <th>Tax</th>\n",
       "      <th>Machines</th>\n",
       "      <th>Premises Count</th>\n",
       "    </tr>\n",
       "  </thead>\n",
       "  <tbody>\n",
       "    <tr>\n",
       "      <th>51</th>\n",
       "      <td>Kyogle</td>\n",
       "      <td>114,952</td>\n",
       "      <td>-</td>\n",
       "      <td>42</td>\n",
       "      <td>5</td>\n",
       "    </tr>\n",
       "    <tr>\n",
       "      <th>90</th>\n",
       "      <td>Warrumbungle</td>\n",
       "      <td>664,337</td>\n",
       "      <td>-</td>\n",
       "      <td>96</td>\n",
       "      <td>10</td>\n",
       "    </tr>\n",
       "    <tr>\n",
       "      <th>42</th>\n",
       "      <td>Gwydir\\r\\nUralla\\r\\nWalcha</td>\n",
       "      <td>952,863</td>\n",
       "      <td>-</td>\n",
       "      <td>95</td>\n",
       "      <td>10</td>\n",
       "    </tr>\n",
       "    <tr>\n",
       "      <th>16</th>\n",
       "      <td>Cabonne</td>\n",
       "      <td>871,085</td>\n",
       "      <td>-</td>\n",
       "      <td>92</td>\n",
       "      <td>11</td>\n",
       "    </tr>\n",
       "    <tr>\n",
       "      <th>39</th>\n",
       "      <td>Goulburn Mulwaree\\r\\nUpper Lachlan</td>\n",
       "      <td>6,884,021</td>\n",
       "      <td>1,058,053</td>\n",
       "      <td>385</td>\n",
       "      <td>7</td>\n",
       "    </tr>\n",
       "    <tr>\n",
       "      <th>...</th>\n",
       "      <td>...</td>\n",
       "      <td>...</td>\n",
       "      <td>...</td>\n",
       "      <td>...</td>\n",
       "      <td>...</td>\n",
       "    </tr>\n",
       "    <tr>\n",
       "      <th>4</th>\n",
       "      <td>Bathurst\\r\\nBlayney</td>\n",
       "      <td>5,356,026</td>\n",
       "      <td>894,190</td>\n",
       "      <td>275</td>\n",
       "      <td>7</td>\n",
       "    </tr>\n",
       "    <tr>\n",
       "      <th>91</th>\n",
       "      <td>Waverley</td>\n",
       "      <td>4,885,521</td>\n",
       "      <td>912,744</td>\n",
       "      <td>369</td>\n",
       "      <td>6</td>\n",
       "    </tr>\n",
       "    <tr>\n",
       "      <th>22</th>\n",
       "      <td>Cessnock</td>\n",
       "      <td>7,508,814</td>\n",
       "      <td>916,725</td>\n",
       "      <td>533</td>\n",
       "      <td>12</td>\n",
       "    </tr>\n",
       "    <tr>\n",
       "      <th>6</th>\n",
       "      <td>Bega Valley</td>\n",
       "      <td>7,721,981</td>\n",
       "      <td>920,028</td>\n",
       "      <td>488</td>\n",
       "      <td>11</td>\n",
       "    </tr>\n",
       "    <tr>\n",
       "      <th>85</th>\n",
       "      <td>Sydney</td>\n",
       "      <td>6,214,839</td>\n",
       "      <td>939,325</td>\n",
       "      <td>558</td>\n",
       "      <td>8</td>\n",
       "    </tr>\n",
       "  </tbody>\n",
       "</table>\n",
       "<p>95 rows × 5 columns</p>\n",
       "</div>"
      ],
      "text/plain": [
       "                                   LGA     Profit        Tax Machines  \\\n",
       "51                              Kyogle    114,952       -          42   \n",
       "90                        Warrumbungle    664,337       -          96   \n",
       "42          Gwydir\\r\\nUralla\\r\\nWalcha    952,863       -          95   \n",
       "16                             Cabonne    871,085       -          92   \n",
       "39  Goulburn Mulwaree\\r\\nUpper Lachlan  6,884,021  1,058,053      385   \n",
       "..                                 ...        ...        ...      ...   \n",
       "4                  Bathurst\\r\\nBlayney  5,356,026    894,190      275   \n",
       "91                            Waverley  4,885,521    912,744      369   \n",
       "22                            Cessnock  7,508,814    916,725      533   \n",
       "6                          Bega Valley  7,721,981    920,028      488   \n",
       "85                              Sydney  6,214,839    939,325      558   \n",
       "\n",
       "    Premises Count  \n",
       "51               5  \n",
       "90              10  \n",
       "42              10  \n",
       "16              11  \n",
       "39               7  \n",
       "..             ...  \n",
       "4                7  \n",
       "91               6  \n",
       "22              12  \n",
       "6               11  \n",
       "85               8  \n",
       "\n",
       "[95 rows x 5 columns]"
      ]
     },
     "execution_count": 25,
     "metadata": {},
     "output_type": "execute_result"
    }
   ],
   "source": [
    "gaming_data.sort_values(\"Tax\")"
   ]
  },
  {
   "cell_type": "code",
   "execution_count": 26,
   "metadata": {},
   "outputs": [
    {
     "data": {
      "text/html": [
       "<div>\n",
       "<style scoped>\n",
       "    .dataframe tbody tr th:only-of-type {\n",
       "        vertical-align: middle;\n",
       "    }\n",
       "\n",
       "    .dataframe tbody tr th {\n",
       "        vertical-align: top;\n",
       "    }\n",
       "\n",
       "    .dataframe thead th {\n",
       "        text-align: right;\n",
       "    }\n",
       "</style>\n",
       "<table border=\"1\" class=\"dataframe\">\n",
       "  <thead>\n",
       "    <tr style=\"text-align: right;\">\n",
       "      <th></th>\n",
       "      <th>LGA</th>\n",
       "      <th>Profit</th>\n",
       "      <th>Tax</th>\n",
       "      <th>Machines</th>\n",
       "      <th>Premises Count</th>\n",
       "    </tr>\n",
       "  </thead>\n",
       "  <tbody>\n",
       "    <tr>\n",
       "      <th>93</th>\n",
       "      <td>Wollondilly</td>\n",
       "      <td>841,053</td>\n",
       "      <td>24,090</td>\n",
       "      <td>167</td>\n",
       "      <td>5</td>\n",
       "    </tr>\n",
       "    <tr>\n",
       "      <th>70</th>\n",
       "      <td>Orange</td>\n",
       "      <td>7,945,998</td>\n",
       "      <td>1,497,765</td>\n",
       "      <td>300</td>\n",
       "      <td>5</td>\n",
       "    </tr>\n",
       "    <tr>\n",
       "      <th>64</th>\n",
       "      <td>Muswellbrook</td>\n",
       "      <td>3,831,844</td>\n",
       "      <td>540,037</td>\n",
       "      <td>170</td>\n",
       "      <td>5</td>\n",
       "    </tr>\n",
       "    <tr>\n",
       "      <th>62</th>\n",
       "      <td>Mosman\\r\\nNorth Sydney</td>\n",
       "      <td>5,158,368</td>\n",
       "      <td>852,954</td>\n",
       "      <td>381</td>\n",
       "      <td>5</td>\n",
       "    </tr>\n",
       "    <tr>\n",
       "      <th>51</th>\n",
       "      <td>Kyogle</td>\n",
       "      <td>114,952</td>\n",
       "      <td>-</td>\n",
       "      <td>42</td>\n",
       "      <td>5</td>\n",
       "    </tr>\n",
       "    <tr>\n",
       "      <th>37</th>\n",
       "      <td>Forbes\\r\\nWeddin</td>\n",
       "      <td>1,348,110</td>\n",
       "      <td>136,600</td>\n",
       "      <td>102</td>\n",
       "      <td>5</td>\n",
       "    </tr>\n",
       "    <tr>\n",
       "      <th>33</th>\n",
       "      <td>Edward River\\r\\nHay</td>\n",
       "      <td>2,509,625</td>\n",
       "      <td>281,827</td>\n",
       "      <td>178</td>\n",
       "      <td>5</td>\n",
       "    </tr>\n",
       "    <tr>\n",
       "      <th>27</th>\n",
       "      <td>Coonamble\\r\\nGilgandra</td>\n",
       "      <td>1,890,093</td>\n",
       "      <td>192,519</td>\n",
       "      <td>93</td>\n",
       "      <td>5</td>\n",
       "    </tr>\n",
       "    <tr>\n",
       "      <th>26</th>\n",
       "      <td>Coolamon\\r\\nJunee</td>\n",
       "      <td>903,605</td>\n",
       "      <td>73,140</td>\n",
       "      <td>80</td>\n",
       "      <td>5</td>\n",
       "    </tr>\n",
       "    <tr>\n",
       "      <th>17</th>\n",
       "      <td>Camden</td>\n",
       "      <td>7,916,543</td>\n",
       "      <td>1,408,749</td>\n",
       "      <td>450</td>\n",
       "      <td>5</td>\n",
       "    </tr>\n",
       "    <tr>\n",
       "      <th>12</th>\n",
       "      <td>Bogan\\r\\nBourke\\r\\nBrewarrina</td>\n",
       "      <td>1,910,027</td>\n",
       "      <td>103,516</td>\n",
       "      <td>85</td>\n",
       "      <td>5</td>\n",
       "    </tr>\n",
       "    <tr>\n",
       "      <th>8</th>\n",
       "      <td>Berrigan</td>\n",
       "      <td>5,589,249</td>\n",
       "      <td>874,938</td>\n",
       "      <td>290</td>\n",
       "      <td>5</td>\n",
       "    </tr>\n",
       "    <tr>\n",
       "      <th>7</th>\n",
       "      <td>Bellingen</td>\n",
       "      <td>1,639,666</td>\n",
       "      <td>132,103</td>\n",
       "      <td>130</td>\n",
       "      <td>5</td>\n",
       "    </tr>\n",
       "    <tr>\n",
       "      <th>91</th>\n",
       "      <td>Waverley</td>\n",
       "      <td>4,885,521</td>\n",
       "      <td>912,744</td>\n",
       "      <td>369</td>\n",
       "      <td>6</td>\n",
       "    </tr>\n",
       "    <tr>\n",
       "      <th>80</th>\n",
       "      <td>Shellharbour</td>\n",
       "      <td>10,509,202</td>\n",
       "      <td>1,720,896</td>\n",
       "      <td>712</td>\n",
       "      <td>6</td>\n",
       "    </tr>\n",
       "    <tr>\n",
       "      <th>58</th>\n",
       "      <td>Maitland</td>\n",
       "      <td>7,136,929</td>\n",
       "      <td>1,092,082</td>\n",
       "      <td>433</td>\n",
       "      <td>6</td>\n",
       "    </tr>\n",
       "    <tr>\n",
       "      <th>55</th>\n",
       "      <td>Lithgow</td>\n",
       "      <td>3,329,926</td>\n",
       "      <td>404,762</td>\n",
       "      <td>236</td>\n",
       "      <td>6</td>\n",
       "    </tr>\n",
       "    <tr>\n",
       "      <th>49</th>\n",
       "      <td>Kiama</td>\n",
       "      <td>2,789,330</td>\n",
       "      <td>231,294</td>\n",
       "      <td>205</td>\n",
       "      <td>6</td>\n",
       "    </tr>\n",
       "    <tr>\n",
       "      <th>47</th>\n",
       "      <td>Inverell</td>\n",
       "      <td>2,655,230</td>\n",
       "      <td>352,096</td>\n",
       "      <td>124</td>\n",
       "      <td>6</td>\n",
       "    </tr>\n",
       "    <tr>\n",
       "      <th>29</th>\n",
       "      <td>Cowra</td>\n",
       "      <td>2,348,772</td>\n",
       "      <td>302,099</td>\n",
       "      <td>139</td>\n",
       "      <td>6</td>\n",
       "    </tr>\n",
       "  </tbody>\n",
       "</table>\n",
       "</div>"
      ],
      "text/plain": [
       "                              LGA      Profit        Tax Machines  \\\n",
       "93                    Wollondilly     841,053     24,090      167   \n",
       "70                         Orange   7,945,998  1,497,765      300   \n",
       "64                   Muswellbrook   3,831,844    540,037      170   \n",
       "62         Mosman\\r\\nNorth Sydney   5,158,368    852,954      381   \n",
       "51                         Kyogle     114,952       -          42   \n",
       "37               Forbes\\r\\nWeddin   1,348,110    136,600      102   \n",
       "33            Edward River\\r\\nHay   2,509,625    281,827      178   \n",
       "27         Coonamble\\r\\nGilgandra   1,890,093    192,519       93   \n",
       "26              Coolamon\\r\\nJunee     903,605     73,140       80   \n",
       "17                         Camden   7,916,543  1,408,749      450   \n",
       "12  Bogan\\r\\nBourke\\r\\nBrewarrina   1,910,027    103,516       85   \n",
       "8                        Berrigan   5,589,249    874,938      290   \n",
       "7                       Bellingen   1,639,666    132,103      130   \n",
       "91                       Waverley   4,885,521    912,744      369   \n",
       "80                   Shellharbour  10,509,202  1,720,896      712   \n",
       "58                       Maitland   7,136,929  1,092,082      433   \n",
       "55                        Lithgow   3,329,926    404,762      236   \n",
       "49                          Kiama   2,789,330    231,294      205   \n",
       "47                       Inverell   2,655,230    352,096      124   \n",
       "29                          Cowra   2,348,772    302,099      139   \n",
       "\n",
       "    Premises Count  \n",
       "93               5  \n",
       "70               5  \n",
       "64               5  \n",
       "62               5  \n",
       "51               5  \n",
       "37               5  \n",
       "33               5  \n",
       "27               5  \n",
       "26               5  \n",
       "17               5  \n",
       "12               5  \n",
       "8                5  \n",
       "7                5  \n",
       "91               6  \n",
       "80               6  \n",
       "58               6  \n",
       "55               6  \n",
       "49               6  \n",
       "47               6  \n",
       "29               6  "
      ]
     },
     "execution_count": 26,
     "metadata": {},
     "output_type": "execute_result"
    }
   ],
   "source": [
    "gaming_data.sort_values([\"Premises Count\",\"LGA\"],ascending=[True,False]).head(20)"
   ]
  },
  {
   "cell_type": "code",
   "execution_count": 78,
   "metadata": {},
   "outputs": [
    {
     "data": {
      "text/html": [
       "<div>\n",
       "<style scoped>\n",
       "    .dataframe tbody tr th:only-of-type {\n",
       "        vertical-align: middle;\n",
       "    }\n",
       "\n",
       "    .dataframe tbody tr th {\n",
       "        vertical-align: top;\n",
       "    }\n",
       "\n",
       "    .dataframe thead th {\n",
       "        text-align: right;\n",
       "    }\n",
       "</style>\n",
       "<table border=\"1\" class=\"dataframe\">\n",
       "  <thead>\n",
       "    <tr style=\"text-align: right;\">\n",
       "      <th></th>\n",
       "      <th>LGA</th>\n",
       "      <th>Profit</th>\n",
       "      <th>Tax</th>\n",
       "      <th>Machines</th>\n",
       "      <th>Premises Count</th>\n",
       "    </tr>\n",
       "  </thead>\n",
       "  <tbody>\n",
       "    <tr>\n",
       "      <th>21</th>\n",
       "      <td>Central Coast</td>\n",
       "      <td>48,423,291</td>\n",
       "      <td>7,556,742</td>\n",
       "      <td>3,587</td>\n",
       "      <td>36</td>\n",
       "    </tr>\n",
       "    <tr>\n",
       "      <th>94</th>\n",
       "      <td>Wollongong</td>\n",
       "      <td>26,318,771</td>\n",
       "      <td>3,687,584</td>\n",
       "      <td>2,156</td>\n",
       "      <td>35</td>\n",
       "    </tr>\n",
       "    <tr>\n",
       "      <th>52</th>\n",
       "      <td>Lake Macquarie</td>\n",
       "      <td>26,199,449</td>\n",
       "      <td>3,592,350</td>\n",
       "      <td>1,858</td>\n",
       "      <td>33</td>\n",
       "    </tr>\n",
       "    <tr>\n",
       "      <th>68</th>\n",
       "      <td>Newcastle</td>\n",
       "      <td>31,846,408</td>\n",
       "      <td>5,836,602</td>\n",
       "      <td>1,937</td>\n",
       "      <td>29</td>\n",
       "    </tr>\n",
       "    <tr>\n",
       "      <th>20</th>\n",
       "      <td>Canterbury-Bankstown</td>\n",
       "      <td>79,269,903</td>\n",
       "      <td>16,630,822</td>\n",
       "      <td>3,852</td>\n",
       "      <td>29</td>\n",
       "    </tr>\n",
       "    <tr>\n",
       "      <th>69</th>\n",
       "      <td>Northern Beaches</td>\n",
       "      <td>22,138,516</td>\n",
       "      <td>3,764,853</td>\n",
       "      <td>1,691</td>\n",
       "      <td>28</td>\n",
       "    </tr>\n",
       "    <tr>\n",
       "      <th>59</th>\n",
       "      <td>Mid-Coast</td>\n",
       "      <td>18,877,112</td>\n",
       "      <td>2,298,974</td>\n",
       "      <td>1,076</td>\n",
       "      <td>28</td>\n",
       "    </tr>\n",
       "    <tr>\n",
       "      <th>84</th>\n",
       "      <td>Sutherland</td>\n",
       "      <td>18,523,923</td>\n",
       "      <td>2,666,112</td>\n",
       "      <td>1,512</td>\n",
       "      <td>23</td>\n",
       "    </tr>\n",
       "    <tr>\n",
       "      <th>81</th>\n",
       "      <td>Shoalhaven</td>\n",
       "      <td>23,408,835</td>\n",
       "      <td>3,214,255</td>\n",
       "      <td>1,387</td>\n",
       "      <td>23</td>\n",
       "    </tr>\n",
       "    <tr>\n",
       "      <th>77</th>\n",
       "      <td>Randwick\\r\\nWoollahra</td>\n",
       "      <td>12,315,949</td>\n",
       "      <td>2,001,249</td>\n",
       "      <td>973</td>\n",
       "      <td>20</td>\n",
       "    </tr>\n",
       "  </tbody>\n",
       "</table>\n",
       "</div>"
      ],
      "text/plain": [
       "                      LGA      Profit         Tax Machines  Premises Count\n",
       "21          Central Coast  48,423,291   7,556,742    3,587              36\n",
       "94             Wollongong  26,318,771   3,687,584    2,156              35\n",
       "52         Lake Macquarie  26,199,449   3,592,350    1,858              33\n",
       "68              Newcastle  31,846,408   5,836,602    1,937              29\n",
       "20   Canterbury-Bankstown  79,269,903  16,630,822    3,852              29\n",
       "69       Northern Beaches  22,138,516   3,764,853    1,691              28\n",
       "59              Mid-Coast  18,877,112   2,298,974    1,076              28\n",
       "84             Sutherland  18,523,923   2,666,112    1,512              23\n",
       "81             Shoalhaven  23,408,835   3,214,255    1,387              23\n",
       "77  Randwick\\r\\nWoollahra  12,315,949   2,001,249      973              20"
      ]
     },
     "execution_count": 78,
     "metadata": {},
     "output_type": "execute_result"
    }
   ],
   "source": [
    "club_no=gaming_data.sort_values([\"Premises Count\",\"LGA\"],ascending=[False,False]).head(10)\n",
    "club_no"
   ]
  },
  {
   "cell_type": "code",
   "execution_count": 79,
   "metadata": {},
   "outputs": [
    {
     "data": {
      "text/plain": [
       "21            Central Coast\n",
       "94               Wollongong\n",
       "52           Lake Macquarie\n",
       "68                Newcastle\n",
       "20     Canterbury-Bankstown\n",
       "69         Northern Beaches\n",
       "59                Mid-Coast\n",
       "84               Sutherland\n",
       "81               Shoalhaven\n",
       "77    Randwick\\r\\nWoollahra\n",
       "Name: LGA, dtype: object"
      ]
     },
     "execution_count": 79,
     "metadata": {},
     "output_type": "execute_result"
    }
   ],
   "source": [
    "x_axis=club_no.iloc[:,0]\n",
    "x_axis"
   ]
  },
  {
   "cell_type": "code",
   "execution_count": 80,
   "metadata": {},
   "outputs": [
    {
     "data": {
      "text/plain": [
       "21    36\n",
       "94    35\n",
       "52    33\n",
       "68    29\n",
       "20    29\n",
       "69    28\n",
       "59    28\n",
       "84    23\n",
       "81    23\n",
       "77    20\n",
       "Name: Premises Count, dtype: int64"
      ]
     },
     "execution_count": 80,
     "metadata": {},
     "output_type": "execute_result"
    }
   ],
   "source": [
    "y_axis=club_no.iloc[:,4]\n",
    "y_axis"
   ]
  },
  {
   "cell_type": "code",
   "execution_count": 81,
   "metadata": {},
   "outputs": [
    {
     "name": "stderr",
     "output_type": "stream",
     "text": [
      ") missing from current font.ckages\\PythonSoftwareFoundation.Python.3.10_qbz5n2kfra8p0\\LocalCache\\local-packages\\Python310\\site-packages\\IPython\\core\\pylabtools.py:151: UserWarning: Glyph 13 (\n",
      "  fig.canvas.print_figure(bytes_io, **kw)\n"
     ]
    },
    {
     "data": {
      "image/png": "[encoded data removed]",
      "text/plain": [
       "<Figure size 432x288 with 1 Axes>"
      ]
     },
     "metadata": {
      "needs_background": "light"
     },
     "output_type": "display_data"
    }
   ],
   "source": [
    "plt.bar(x_axis,y_axis)\n",
    "plt.show()"
   ]
  },
  {
   "cell_type": "markdown",
   "metadata": {},
   "source": [
    "Frequency of the numbers of clubs in LGA specified"
   ]
  },
  {
   "cell_type": "code",
   "execution_count": 28,
   "metadata": {},
   "outputs": [
    {
     "data": {
      "text/plain": [
       "<AxesSubplot:>"
      ]
     },
     "execution_count": 28,
     "metadata": {},
     "output_type": "execute_result"
    },
    {
     "data": {
      "image/png": "[encoded data removed]",
      "text/plain": [
       "<Figure size 432x288 with 1 Axes>"
      ]
     },
     "metadata": {
      "needs_background": "light"
     },
     "output_type": "display_data"
    }
   ],
   "source": [
    "gaming_data[\"Premises Count\"].value_counts().plot(kind=\"bar\")"
   ]
  },
  {
   "cell_type": "code",
   "execution_count": 68,
   "metadata": {},
   "outputs": [
    {
     "data": {
      "text/html": [
       "<div>\n",
       "<style scoped>\n",
       "    .dataframe tbody tr th:only-of-type {\n",
       "        vertical-align: middle;\n",
       "    }\n",
       "\n",
       "    .dataframe tbody tr th {\n",
       "        vertical-align: top;\n",
       "    }\n",
       "\n",
       "    .dataframe thead th {\n",
       "        text-align: right;\n",
       "    }\n",
       "</style>\n",
       "<table border=\"1\" class=\"dataframe\">\n",
       "  <thead>\n",
       "    <tr style=\"text-align: right;\">\n",
       "      <th></th>\n",
       "      <th>LGA</th>\n",
       "      <th>Profit</th>\n",
       "      <th>Tax</th>\n",
       "      <th>Machines</th>\n",
       "      <th>Premises Count</th>\n",
       "    </tr>\n",
       "  </thead>\n",
       "  <tbody>\n",
       "    <tr>\n",
       "      <th>5</th>\n",
       "      <td>Bayside</td>\n",
       "      <td>13,782,049</td>\n",
       "      <td>2,055,160</td>\n",
       "      <td>1,058</td>\n",
       "      <td>18</td>\n",
       "    </tr>\n",
       "    <tr>\n",
       "      <th>56</th>\n",
       "      <td>Liverpool</td>\n",
       "      <td>19,958,862</td>\n",
       "      <td>3,854,162</td>\n",
       "      <td>1,067</td>\n",
       "      <td>8</td>\n",
       "    </tr>\n",
       "    <tr>\n",
       "      <th>59</th>\n",
       "      <td>Mid-Coast</td>\n",
       "      <td>18,877,112</td>\n",
       "      <td>2,298,974</td>\n",
       "      <td>1,076</td>\n",
       "      <td>28</td>\n",
       "    </tr>\n",
       "    <tr>\n",
       "      <th>72</th>\n",
       "      <td>Parramatta</td>\n",
       "      <td>20,839,563</td>\n",
       "      <td>3,881,430</td>\n",
       "      <td>1,224</td>\n",
       "      <td>11</td>\n",
       "    </tr>\n",
       "    <tr>\n",
       "      <th>81</th>\n",
       "      <td>Shoalhaven</td>\n",
       "      <td>23,408,835</td>\n",
       "      <td>3,214,255</td>\n",
       "      <td>1,387</td>\n",
       "      <td>23</td>\n",
       "    </tr>\n",
       "    <tr>\n",
       "      <th>84</th>\n",
       "      <td>Sutherland</td>\n",
       "      <td>18,523,923</td>\n",
       "      <td>2,666,112</td>\n",
       "      <td>1,512</td>\n",
       "      <td>23</td>\n",
       "    </tr>\n",
       "    <tr>\n",
       "      <th>18</th>\n",
       "      <td>Campbelltown</td>\n",
       "      <td>26,753,479</td>\n",
       "      <td>5,541,031</td>\n",
       "      <td>1,572</td>\n",
       "      <td>10</td>\n",
       "    </tr>\n",
       "    <tr>\n",
       "      <th>38</th>\n",
       "      <td>Georges River</td>\n",
       "      <td>24,838,811</td>\n",
       "      <td>4,260,321</td>\n",
       "      <td>1,598</td>\n",
       "      <td>15</td>\n",
       "    </tr>\n",
       "    <tr>\n",
       "      <th>88</th>\n",
       "      <td>Tweed</td>\n",
       "      <td>27,491,295</td>\n",
       "      <td>4,741,457</td>\n",
       "      <td>1,650</td>\n",
       "      <td>15</td>\n",
       "    </tr>\n",
       "    <tr>\n",
       "      <th>69</th>\n",
       "      <td>Northern Beaches</td>\n",
       "      <td>22,138,516</td>\n",
       "      <td>3,764,853</td>\n",
       "      <td>1,691</td>\n",
       "      <td>28</td>\n",
       "    </tr>\n",
       "    <tr>\n",
       "      <th>52</th>\n",
       "      <td>Lake Macquarie</td>\n",
       "      <td>26,199,449</td>\n",
       "      <td>3,592,350</td>\n",
       "      <td>1,858</td>\n",
       "      <td>33</td>\n",
       "    </tr>\n",
       "    <tr>\n",
       "      <th>68</th>\n",
       "      <td>Newcastle</td>\n",
       "      <td>31,846,408</td>\n",
       "      <td>5,836,602</td>\n",
       "      <td>1,937</td>\n",
       "      <td>29</td>\n",
       "    </tr>\n",
       "    <tr>\n",
       "      <th>37</th>\n",
       "      <td>Forbes\\r\\nWeddin</td>\n",
       "      <td>1,348,110</td>\n",
       "      <td>136,600</td>\n",
       "      <td>102</td>\n",
       "      <td>5</td>\n",
       "    </tr>\n",
       "    <tr>\n",
       "      <th>67</th>\n",
       "      <td>Narromine\\r\\nWarren</td>\n",
       "      <td>1,513,657</td>\n",
       "      <td>63,899</td>\n",
       "      <td>120</td>\n",
       "      <td>7</td>\n",
       "    </tr>\n",
       "    <tr>\n",
       "      <th>57</th>\n",
       "      <td>Lockhart\\r\\nNarrandera</td>\n",
       "      <td>1,443,827</td>\n",
       "      <td>107,327</td>\n",
       "      <td>122</td>\n",
       "      <td>8</td>\n",
       "    </tr>\n",
       "    <tr>\n",
       "      <th>47</th>\n",
       "      <td>Inverell</td>\n",
       "      <td>2,655,230</td>\n",
       "      <td>352,096</td>\n",
       "      <td>124</td>\n",
       "      <td>6</td>\n",
       "    </tr>\n",
       "    <tr>\n",
       "      <th>7</th>\n",
       "      <td>Bellingen</td>\n",
       "      <td>1,639,666</td>\n",
       "      <td>132,103</td>\n",
       "      <td>130</td>\n",
       "      <td>5</td>\n",
       "    </tr>\n",
       "    <tr>\n",
       "      <th>24</th>\n",
       "      <td>Cobar\\r\\nLachlan</td>\n",
       "      <td>2,752,451</td>\n",
       "      <td>332,355</td>\n",
       "      <td>134</td>\n",
       "      <td>6</td>\n",
       "    </tr>\n",
       "    <tr>\n",
       "      <th>29</th>\n",
       "      <td>Cowra</td>\n",
       "      <td>2,348,772</td>\n",
       "      <td>302,099</td>\n",
       "      <td>139</td>\n",
       "      <td>6</td>\n",
       "    </tr>\n",
       "    <tr>\n",
       "      <th>53</th>\n",
       "      <td>Leeton\\r\\nMurrumbidgee</td>\n",
       "      <td>2,943,478</td>\n",
       "      <td>306,924</td>\n",
       "      <td>142</td>\n",
       "      <td>7</td>\n",
       "    </tr>\n",
       "    <tr>\n",
       "      <th>66</th>\n",
       "      <td>Narrabri</td>\n",
       "      <td>1,927,666</td>\n",
       "      <td>165,057</td>\n",
       "      <td>145</td>\n",
       "      <td>7</td>\n",
       "    </tr>\n",
       "    <tr>\n",
       "      <th>82</th>\n",
       "      <td>Snowy Monaro</td>\n",
       "      <td>2,890,840</td>\n",
       "      <td>329,181</td>\n",
       "      <td>156</td>\n",
       "      <td>7</td>\n",
       "    </tr>\n",
       "    <tr>\n",
       "      <th>89</th>\n",
       "      <td>Upper Hunter</td>\n",
       "      <td>2,513,656</td>\n",
       "      <td>203,519</td>\n",
       "      <td>159</td>\n",
       "      <td>9</td>\n",
       "    </tr>\n",
       "    <tr>\n",
       "      <th>93</th>\n",
       "      <td>Wollondilly</td>\n",
       "      <td>841,053</td>\n",
       "      <td>24,090</td>\n",
       "      <td>167</td>\n",
       "      <td>5</td>\n",
       "    </tr>\n",
       "    <tr>\n",
       "      <th>60</th>\n",
       "      <td>Mid-Western Regional</td>\n",
       "      <td>3,167,965</td>\n",
       "      <td>364,775</td>\n",
       "      <td>168</td>\n",
       "      <td>7</td>\n",
       "    </tr>\n",
       "    <tr>\n",
       "      <th>64</th>\n",
       "      <td>Muswellbrook</td>\n",
       "      <td>3,831,844</td>\n",
       "      <td>540,037</td>\n",
       "      <td>170</td>\n",
       "      <td>5</td>\n",
       "    </tr>\n",
       "    <tr>\n",
       "      <th>28</th>\n",
       "      <td>Cootamundra-Gundagai\\r\\nTemora</td>\n",
       "      <td>2,707,092</td>\n",
       "      <td>264,225</td>\n",
       "      <td>177</td>\n",
       "      <td>7</td>\n",
       "    </tr>\n",
       "    <tr>\n",
       "      <th>33</th>\n",
       "      <td>Edward River\\r\\nHay</td>\n",
       "      <td>2,509,625</td>\n",
       "      <td>281,827</td>\n",
       "      <td>178</td>\n",
       "      <td>5</td>\n",
       "    </tr>\n",
       "    <tr>\n",
       "      <th>71</th>\n",
       "      <td>Parkes</td>\n",
       "      <td>2,888,847</td>\n",
       "      <td>314,915</td>\n",
       "      <td>184</td>\n",
       "      <td>9</td>\n",
       "    </tr>\n",
       "    <tr>\n",
       "      <th>41</th>\n",
       "      <td>Gunnedah\\r\\nLiverpool Plains</td>\n",
       "      <td>3,677,330</td>\n",
       "      <td>395,365</td>\n",
       "      <td>188</td>\n",
       "      <td>7</td>\n",
       "    </tr>\n",
       "  </tbody>\n",
       "</table>\n",
       "</div>"
      ],
      "text/plain": [
       "                               LGA      Profit        Tax Machines  \\\n",
       "5                          Bayside  13,782,049  2,055,160    1,058   \n",
       "56                       Liverpool  19,958,862  3,854,162    1,067   \n",
       "59                       Mid-Coast  18,877,112  2,298,974    1,076   \n",
       "72                      Parramatta  20,839,563  3,881,430    1,224   \n",
       "81                      Shoalhaven  23,408,835  3,214,255    1,387   \n",
       "84                      Sutherland  18,523,923  2,666,112    1,512   \n",
       "18                    Campbelltown  26,753,479  5,541,031    1,572   \n",
       "38                   Georges River  24,838,811  4,260,321    1,598   \n",
       "88                           Tweed  27,491,295  4,741,457    1,650   \n",
       "69                Northern Beaches  22,138,516  3,764,853    1,691   \n",
       "52                  Lake Macquarie  26,199,449  3,592,350    1,858   \n",
       "68                       Newcastle  31,846,408  5,836,602    1,937   \n",
       "37                Forbes\\r\\nWeddin   1,348,110    136,600      102   \n",
       "67             Narromine\\r\\nWarren   1,513,657     63,899      120   \n",
       "57          Lockhart\\r\\nNarrandera   1,443,827    107,327      122   \n",
       "47                        Inverell   2,655,230    352,096      124   \n",
       "7                        Bellingen   1,639,666    132,103      130   \n",
       "24                Cobar\\r\\nLachlan   2,752,451    332,355      134   \n",
       "29                           Cowra   2,348,772    302,099      139   \n",
       "53          Leeton\\r\\nMurrumbidgee   2,943,478    306,924      142   \n",
       "66                        Narrabri   1,927,666    165,057      145   \n",
       "82                    Snowy Monaro   2,890,840    329,181      156   \n",
       "89                    Upper Hunter   2,513,656    203,519      159   \n",
       "93                     Wollondilly     841,053     24,090      167   \n",
       "60            Mid-Western Regional   3,167,965    364,775      168   \n",
       "64                    Muswellbrook   3,831,844    540,037      170   \n",
       "28  Cootamundra-Gundagai\\r\\nTemora   2,707,092    264,225      177   \n",
       "33             Edward River\\r\\nHay   2,509,625    281,827      178   \n",
       "71                          Parkes   2,888,847    314,915      184   \n",
       "41    Gunnedah\\r\\nLiverpool Plains   3,677,330    395,365      188   \n",
       "\n",
       "    Premises Count  \n",
       "5               18  \n",
       "56               8  \n",
       "59              28  \n",
       "72              11  \n",
       "81              23  \n",
       "84              23  \n",
       "18              10  \n",
       "38              15  \n",
       "88              15  \n",
       "69              28  \n",
       "52              33  \n",
       "68              29  \n",
       "37               5  \n",
       "67               7  \n",
       "57               8  \n",
       "47               6  \n",
       "7                5  \n",
       "24               6  \n",
       "29               6  \n",
       "53               7  \n",
       "66               7  \n",
       "82               7  \n",
       "89               9  \n",
       "93               5  \n",
       "60               7  \n",
       "64               5  \n",
       "28               7  \n",
       "33               5  \n",
       "71               9  \n",
       "41               7  "
      ]
     },
     "execution_count": 68,
     "metadata": {},
     "output_type": "execute_result"
    }
   ],
   "source": [
    "gaming_data.sort_values([\"Machines\",\"Profit\"]).head(30)"
   ]
  },
  {
   "cell_type": "code",
   "execution_count": 30,
   "metadata": {},
   "outputs": [],
   "source": [
    "syd = gaming_data[gaming_data.LGA == \"Sydney\"]"
   ]
  },
  {
   "cell_type": "code",
   "execution_count": 31,
   "metadata": {},
   "outputs": [
    {
     "data": {
      "text/html": [
       "<div>\n",
       "<style scoped>\n",
       "    .dataframe tbody tr th:only-of-type {\n",
       "        vertical-align: middle;\n",
       "    }\n",
       "\n",
       "    .dataframe tbody tr th {\n",
       "        vertical-align: top;\n",
       "    }\n",
       "\n",
       "    .dataframe thead th {\n",
       "        text-align: right;\n",
       "    }\n",
       "</style>\n",
       "<table border=\"1\" class=\"dataframe\">\n",
       "  <thead>\n",
       "    <tr style=\"text-align: right;\">\n",
       "      <th></th>\n",
       "      <th>LGA</th>\n",
       "      <th>Profit</th>\n",
       "      <th>Tax</th>\n",
       "      <th>Machines</th>\n",
       "      <th>Premises Count</th>\n",
       "    </tr>\n",
       "  </thead>\n",
       "  <tbody>\n",
       "    <tr>\n",
       "      <th>85</th>\n",
       "      <td>Sydney</td>\n",
       "      <td>6,214,839</td>\n",
       "      <td>939,325</td>\n",
       "      <td>558</td>\n",
       "      <td>8</td>\n",
       "    </tr>\n",
       "  </tbody>\n",
       "</table>\n",
       "</div>"
      ],
      "text/plain": [
       "       LGA     Profit      Tax Machines  Premises Count\n",
       "85  Sydney  6,214,839  939,325      558               8"
      ]
     },
     "execution_count": 31,
     "metadata": {},
     "output_type": "execute_result"
    }
   ],
   "source": [
    "syd"
   ]
  },
  {
   "cell_type": "code",
   "execution_count": 32,
   "metadata": {},
   "outputs": [],
   "source": [
    "par = gaming_data[gaming_data.LGA == \"Parramatta\"]"
   ]
  },
  {
   "cell_type": "code",
   "execution_count": 33,
   "metadata": {},
   "outputs": [
    {
     "data": {
      "text/html": [
       "<div>\n",
       "<style scoped>\n",
       "    .dataframe tbody tr th:only-of-type {\n",
       "        vertical-align: middle;\n",
       "    }\n",
       "\n",
       "    .dataframe tbody tr th {\n",
       "        vertical-align: top;\n",
       "    }\n",
       "\n",
       "    .dataframe thead th {\n",
       "        text-align: right;\n",
       "    }\n",
       "</style>\n",
       "<table border=\"1\" class=\"dataframe\">\n",
       "  <thead>\n",
       "    <tr style=\"text-align: right;\">\n",
       "      <th></th>\n",
       "      <th>LGA</th>\n",
       "      <th>Profit</th>\n",
       "      <th>Tax</th>\n",
       "      <th>Machines</th>\n",
       "      <th>Premises Count</th>\n",
       "    </tr>\n",
       "  </thead>\n",
       "  <tbody>\n",
       "    <tr>\n",
       "      <th>72</th>\n",
       "      <td>Parramatta</td>\n",
       "      <td>20,839,563</td>\n",
       "      <td>3,881,430</td>\n",
       "      <td>1,224</td>\n",
       "      <td>11</td>\n",
       "    </tr>\n",
       "  </tbody>\n",
       "</table>\n",
       "</div>"
      ],
      "text/plain": [
       "           LGA      Profit        Tax Machines  Premises Count\n",
       "72  Parramatta  20,839,563  3,881,430    1,224              11"
      ]
     },
     "execution_count": 33,
     "metadata": {},
     "output_type": "execute_result"
    }
   ],
   "source": [
    "par"
   ]
  },
  {
   "cell_type": "markdown",
   "metadata": {},
   "source": [
    "# of Machines in Sydney, Parramatta, and Randwick"
   ]
  },
  {
   "cell_type": "code",
   "execution_count": 43,
   "metadata": {},
   "outputs": [
    {
     "data": {
      "image/png": "[encoded data removed]",
      "text/plain": [
       "<Figure size 432x288 with 1 Axes>"
      ]
     },
     "metadata": {
      "needs_background": "light"
     },
     "output_type": "display_data"
    }
   ],
   "source": [
    "x=[\"Sydney\",\"Parramatta\",\"Inner West\",\"Randwick\"]\n",
    "y=[558,1224,900,973]\n",
    "plt.bar(x,y)\n",
    "plt.show()"
   ]
  },
  {
   "cell_type": "code",
   "execution_count": 51,
   "metadata": {},
   "outputs": [
    {
     "data": {
      "text/plain": [
       "LGA                 Bland\n",
       "Profit            803,322\n",
       "Tax                69,525\n",
       "Machines               84\n",
       "Premises Count          6\n",
       "Name: 10, dtype: object"
      ]
     },
     "execution_count": 51,
     "metadata": {},
     "output_type": "execute_result"
    }
   ],
   "source": []
  },
  {
   "cell_type": "code",
   "execution_count": 50,
   "metadata": {},
   "outputs": [
    {
     "ename": "TypeError",
     "evalue": "no numeric data to plot",
     "output_type": "error",
     "traceback": [
      "\u001b[1;31m---------------------------------------------------------------------------\u001b[0m",
      "\u001b[1;31mTypeError\u001b[0m                                 Traceback (most recent call last)",
      "\u001b[1;32mc:\\Users\\PC\\1161\\clubs machine gaming data\\clubs-gaming-machine-data\\gaming data.ipynb Cell 36\u001b[0m in \u001b[0;36m<cell line: 1>\u001b[1;34m()\u001b[0m\n\u001b[1;32m----> <a href='vscode-notebook-cell:/c%3A/Users/PC/1161/clubs%20machine%20gaming%20data/clubs-gaming-machine-data/gaming%20data.ipynb#X50sZmlsZQ%3D%3D?line=0'>1</a>\u001b[0m gaming_machines[\u001b[39m\"\u001b[39;49m\u001b[39mMachines\u001b[39;49m\u001b[39m\"\u001b[39;49m]\u001b[39m.\u001b[39;49mhead(\u001b[39m10\u001b[39;49m)\u001b[39m.\u001b[39;49mplot(kind\u001b[39m=\u001b[39;49m\u001b[39m\"\u001b[39;49m\u001b[39mbarh\u001b[39;49m\u001b[39m\"\u001b[39;49m)\n\u001b[0;32m      <a href='vscode-notebook-cell:/c%3A/Users/PC/1161/clubs%20machine%20gaming%20data/clubs-gaming-machine-data/gaming%20data.ipynb#X50sZmlsZQ%3D%3D?line=1'>2</a>\u001b[0m plt\u001b[39m.\u001b[39mshow()\n",
      "File \u001b[1;32m~\\AppData\\Local\\Packages\\PythonSoftwareFoundation.Python.3.10_qbz5n2kfra8p0\\LocalCache\\local-packages\\Python310\\site-packages\\pandas\\plotting\\_core.py:972\u001b[0m, in \u001b[0;36mPlotAccessor.__call__\u001b[1;34m(self, *args, **kwargs)\u001b[0m\n\u001b[0;32m    969\u001b[0m             label_name \u001b[39m=\u001b[39m label_kw \u001b[39mor\u001b[39;00m data\u001b[39m.\u001b[39mcolumns\n\u001b[0;32m    970\u001b[0m             data\u001b[39m.\u001b[39mcolumns \u001b[39m=\u001b[39m label_name\n\u001b[1;32m--> 972\u001b[0m \u001b[39mreturn\u001b[39;00m plot_backend\u001b[39m.\u001b[39mplot(data, kind\u001b[39m=\u001b[39mkind, \u001b[39m*\u001b[39m\u001b[39m*\u001b[39mkwargs)\n",
      "File \u001b[1;32m~\\AppData\\Local\\Packages\\PythonSoftwareFoundation.Python.3.10_qbz5n2kfra8p0\\LocalCache\\local-packages\\Python310\\site-packages\\pandas\\plotting\\_matplotlib\\__init__.py:71\u001b[0m, in \u001b[0;36mplot\u001b[1;34m(data, kind, **kwargs)\u001b[0m\n\u001b[0;32m     69\u001b[0m         kwargs[\u001b[39m\"\u001b[39m\u001b[39max\u001b[39m\u001b[39m\"\u001b[39m] \u001b[39m=\u001b[39m \u001b[39mgetattr\u001b[39m(ax, \u001b[39m\"\u001b[39m\u001b[39mleft_ax\u001b[39m\u001b[39m\"\u001b[39m, ax)\n\u001b[0;32m     70\u001b[0m plot_obj \u001b[39m=\u001b[39m PLOT_CLASSES[kind](data, \u001b[39m*\u001b[39m\u001b[39m*\u001b[39mkwargs)\n\u001b[1;32m---> 71\u001b[0m plot_obj\u001b[39m.\u001b[39;49mgenerate()\n\u001b[0;32m     72\u001b[0m plot_obj\u001b[39m.\u001b[39mdraw()\n\u001b[0;32m     73\u001b[0m \u001b[39mreturn\u001b[39;00m plot_obj\u001b[39m.\u001b[39mresult\n",
      "File \u001b[1;32m~\\AppData\\Local\\Packages\\PythonSoftwareFoundation.Python.3.10_qbz5n2kfra8p0\\LocalCache\\local-packages\\Python310\\site-packages\\pandas\\plotting\\_matplotlib\\core.py:327\u001b[0m, in \u001b[0;36mMPLPlot.generate\u001b[1;34m(self)\u001b[0m\n\u001b[0;32m    325\u001b[0m \u001b[39mdef\u001b[39;00m \u001b[39mgenerate\u001b[39m(\u001b[39mself\u001b[39m):\n\u001b[0;32m    326\u001b[0m     \u001b[39mself\u001b[39m\u001b[39m.\u001b[39m_args_adjust()\n\u001b[1;32m--> 327\u001b[0m     \u001b[39mself\u001b[39;49m\u001b[39m.\u001b[39;49m_compute_plot_data()\n\u001b[0;32m    328\u001b[0m     \u001b[39mself\u001b[39m\u001b[39m.\u001b[39m_setup_subplots()\n\u001b[0;32m    329\u001b[0m     \u001b[39mself\u001b[39m\u001b[39m.\u001b[39m_make_plot()\n",
      "File \u001b[1;32m~\\AppData\\Local\\Packages\\PythonSoftwareFoundation.Python.3.10_qbz5n2kfra8p0\\LocalCache\\local-packages\\Python310\\site-packages\\pandas\\plotting\\_matplotlib\\core.py:506\u001b[0m, in \u001b[0;36mMPLPlot._compute_plot_data\u001b[1;34m(self)\u001b[0m\n\u001b[0;32m    504\u001b[0m \u001b[39m# no non-numeric frames or series allowed\u001b[39;00m\n\u001b[0;32m    505\u001b[0m \u001b[39mif\u001b[39;00m is_empty:\n\u001b[1;32m--> 506\u001b[0m     \u001b[39mraise\u001b[39;00m \u001b[39mTypeError\u001b[39;00m(\u001b[39m\"\u001b[39m\u001b[39mno numeric data to plot\u001b[39m\u001b[39m\"\u001b[39m)\n\u001b[0;32m    508\u001b[0m \u001b[39mself\u001b[39m\u001b[39m.\u001b[39mdata \u001b[39m=\u001b[39m numeric_data\u001b[39m.\u001b[39mapply(\u001b[39mself\u001b[39m\u001b[39m.\u001b[39m_convert_to_ndarray)\n",
      "\u001b[1;31mTypeError\u001b[0m: no numeric data to plot"
     ]
    }
   ],
   "source": []
  }
 ],
 "metadata": {
  "kernelspec": {
   "display_name": "Python 3.10.5 64-bit (windows store)",
   "language": "python",
   "name": "python3"
  },
  "language_info": {
   "codemirror_mode": {
    "name": "ipython",
    "version": 3
   },
   "file_extension": ".py",
   "mimetype": "text/x-python",
   "name": "python",
   "nbconvert_exporter": "python",
   "pygments_lexer": "ipython3",
   "version": "3.10.6"
  },
  "orig_nbformat": 4,
  "vscode": {
   "interpreter": {
    "hash": "23f823caeccb1684f6bd50492b68bb5eab208de0408f39b2457c6a38c0e8e818"
   }
  }
 },
 "nbformat": 4,
 "nbformat_minor": 2
}
